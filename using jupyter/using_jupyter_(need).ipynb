{
 "cells": [
  {
   "attachments": {},
   "cell_type": "markdown",
   "id": "123456",
   "metadata": {},
   "source": [
    "<div style=\"text-align:left;font-size:2em\"><span style=\"font-weight:bolder;font-size:1.25em\">SP2273 | Learning Portfolio</span><br><br><span style=\"font-weight:bold;color:darkred\">Using Jupyter (Need)</span></div>"
   ]
  },
  {
   "attachments": {},
   "cell_type": "markdown",
   "id": "034270eb",
   "metadata": {},
   "source": [
    "# 1 What to expect in this chapter"
   ]
  },
  {
   "attachments": {},
   "cell_type": "markdown",
   "id": "20d8c392",
   "metadata": {},
   "source": [
    "# 2 Getting ready"
   ]
  },
  {
   "attachments": {},
   "cell_type": "markdown",
   "id": "584069df",
   "metadata": {},
   "source": [
    "# 3 Getting started with Jupyter"
   ]
  },
  {
   "attachments": {},
   "cell_type": "markdown",
   "id": "b9a3715c",
   "metadata": {},
   "source": [
    "## 3.1 It is all about running cells"
   ]
  },
  {
   "attachments": {},
   "cell_type": "markdown",
   "id": "95bfa754",
   "metadata": {},
   "source": [
    "## 3.2 A traditional start"
   ]
  },
  {
   "attachments": {},
   "cell_type": "markdown",
   "id": "18f1d74a",
   "metadata": {},
   "source": [
    "# 4 All about Markdown"
   ]
  },
  {
   "attachments": {},
   "cell_type": "markdown",
   "id": "b1f9a517",
   "metadata": {},
   "source": [
    "## 4.1 Rendering Markdown cells"
   ]
  },
  {
   "cell_type": "markdown",
   "id": "08748668-4ec9-43b5-9324-566c7729b4d0",
   "metadata": {},
   "source": [
    "we are here<sub>1</sup>"
   ]
  },
  {
   "cell_type": "markdown",
   "id": "844c9d12-ecc3-4c9b-bad9-705bdb1dfba0",
   "metadata": {},
   "source": [
    "they are here<sup>2</sup>"
   ]
  },
  {
   "cell_type": "markdown",
   "id": "d9c7d6f7-2a5c-47de-a9eb-0dd5f77b5bdb",
   "metadata": {},
   "source": [
    "**yooo**"
   ]
  },
  {
   "attachments": {},
   "cell_type": "markdown",
   "id": "cf3fc3cf",
   "metadata": {},
   "source": [
    "## 4.2 Some basic syntax"
   ]
  },
  {
   "attachments": {},
   "cell_type": "markdown",
   "id": "3f474bee",
   "metadata": {},
   "source": [
    "## 4.3 Headings"
   ]
  },
  {
   "attachments": {},
   "cell_type": "markdown",
   "id": "5f0da3b6",
   "metadata": {},
   "source": [
    "## 4.4 Displaying Code"
   ]
  },
  {
   "cell_type": "markdown",
   "id": "e5eea7fc-e4b9-412a-8522-73494867ae7a",
   "metadata": {},
   "source": [
    "`print('hello world')`"
   ]
  },
  {
   "attachments": {},
   "cell_type": "markdown",
   "id": "6c6befaa",
   "metadata": {},
   "source": [
    "## 4.5 Links"
   ]
  },
  {
   "attachments": {},
   "cell_type": "markdown",
   "id": "12fb39cd",
   "metadata": {},
   "source": [
    "## 4.6 Images"
   ]
  },
  {
   "cell_type": "markdown",
   "id": "7fb3612c-acc5-4aff-a86e-5b2b9added8f",
   "metadata": {},
   "source": [
    "![](https://nus.edu.sg/images/default-source/base/logo.png)"
   ]
  },
  {
   "attachments": {},
   "cell_type": "markdown",
   "id": "7331ed0e",
   "metadata": {},
   "source": [
    "## 4.7 Tables"
   ]
  },
  {
   "attachments": {},
   "cell_type": "markdown",
   "id": "50481f9f",
   "metadata": {},
   "source": [
    "## 4.8 Lists"
   ]
  },
  {
   "cell_type": "markdown",
   "id": "02128a73-9a38-46ed-938b-5c0484bef6f8",
   "metadata": {},
   "source": [
    "1. what i wanna eat\n",
    "   - fried chicken\n",
    "   - nuggies\n",
    "   - luo si fen\n",
    "   - everythingggg"
   ]
  },
  {
   "attachments": {},
   "cell_type": "markdown",
   "id": "46cd201d",
   "metadata": {},
   "source": [
    "## 4.9 Equations"
   ]
  },
  {
   "cell_type": "markdown",
   "id": "11b111ed-d3aa-49ed-a871-956e95fd5599",
   "metadata": {},
   "source": [
    "$ax^2+bx+c=0$"
   ]
  },
  {
   "cell_type": "markdown",
   "id": "28df4056-3344-43bc-80ee-99d594416ce7",
   "metadata": {},
   "source": [
    "![](https://upload.wikimedia.org/wikipedia/commons/thumb/f/f8/Polynomialdeg2.svg/300px-Polynomialdeg2.svg.png)"
   ]
  },
  {
   "cell_type": "markdown",
   "id": "69322109-726d-4a06-a33a-7d5fbdb18322",
   "metadata": {},
   "source": [
    "$$\n",
    "x=\\dfrac{-b \\pm \\sqrt{b^2-4ac}}{2a}\n",
    "$$"
   ]
  },
  {
   "cell_type": "markdown",
   "id": "da1fbe8f-b3f8-408b-bbc6-7e8e8b1df4ee",
   "metadata": {},
   "source": [
    "| Discrimination  | Roots |   |   |   |\n",
    "|-----------------|-------|---|---|---|\n",
    "| $b^2-4ac=0$     |       |   |   |   |\n",
    "| $b^2-4ac \\gt 0$ |       |   |   |   |\n",
    "| $b^2-4ac \\lt 0$ |       |   |   |   |"
   ]
  },
  {
   "attachments": {},
   "cell_type": "markdown",
   "id": "851e19c8",
   "metadata": {},
   "source": [
    "## Footnotes"
   ]
  }
 ],
 "metadata": {
  "kernelspec": {
   "display_name": "Python 3 (ipykernel)",
   "language": "python",
   "name": "python3"
  },
  "language_info": {
   "codemirror_mode": {
    "name": "ipython",
    "version": 3
   },
   "file_extension": ".py",
   "mimetype": "text/x-python",
   "name": "python",
   "nbconvert_exporter": "python",
   "pygments_lexer": "ipython3",
   "version": "3.11.7"
  },
  "toc": {
   "base_numbering": 1,
   "nav_menu": {},
   "number_sections": true,
   "sideBar": true,
   "skip_h1_title": false,
   "title_cell": "Table of Contents",
   "title_sidebar": "Contents",
   "toc_cell": false,
   "toc_position": {},
   "toc_section_display": true,
   "toc_window_display": false
  },
  "vscode": {
   "interpreter": {
    "hash": "31f2aee4e71d21fbe5cf8b01ff0e069b9275f58929596ceb00d14d90e3e16cd6"
   }
  }
 },
 "nbformat": 4,
 "nbformat_minor": 5
}
