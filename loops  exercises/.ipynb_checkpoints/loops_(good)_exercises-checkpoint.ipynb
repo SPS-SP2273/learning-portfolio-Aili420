{
 "cells": [
  {
   "attachments": {},
   "cell_type": "markdown",
   "id": "123456",
   "metadata": {},
   "source": [
    "<div style=\"text-align:left;font-size:2em\"><span style=\"font-weight:bolder;font-size:1.25em\">SP2273 | Learning Portfolio</span><br><br><span style=\"font-weight:bold;color:darkred\">Loops (Good) Exercises</span></div>"
   ]
  },
  {
   "cell_type": "markdown",
   "id": "9237cba2-3fbc-4a6a-82ae-c4f39879b8a5",
   "metadata": {},
   "source": [
    "### Exercise 1"
   ]
  },
  {
   "cell_type": "code",
   "execution_count": 9,
   "id": "a005e931-584b-458c-8316-e0e9a78d5b8e",
   "metadata": {},
   "outputs": [
    {
     "name": "stdout",
     "output_type": "stream",
     "text": [
      "0\n",
      "1\n",
      "2\n",
      "3\n",
      "4\n",
      "5\n",
      "6\n",
      "7\n",
      "8\n",
      "9\n"
     ]
    }
   ],
   "source": [
    "for factor in range(10):\n",
    "    print(factor)"
   ]
  },
  {
   "cell_type": "code",
   "execution_count": 10,
   "id": "5eec8fbb-f674-424f-93b4-382efb58947b",
   "metadata": {},
   "outputs": [
    {
     "name": "stdout",
     "output_type": "stream",
     "text": [
      "1\n",
      "3\n",
      "5\n",
      "7\n",
      "9\n"
     ]
    }
   ],
   "source": [
    "for factor in range(10):\n",
    "    if factor%2 == 0:\n",
    "        continue\n",
    "    print(factor)"
   ]
  },
  {
   "cell_type": "code",
   "execution_count": 13,
   "id": "a114946b-7ede-49bf-8f69-12afafc22935",
   "metadata": {},
   "outputs": [
    {
     "name": "stdout",
     "output_type": "stream",
     "text": [
      "1\n",
      "9\n",
      "25\n",
      "49\n",
      "81\n"
     ]
    }
   ],
   "source": [
    "for factor in range(10):\n",
    "    if factor%2 == 0:\n",
    "        continue\n",
    "    number = factor**2\n",
    "    print(number)"
   ]
  },
  {
   "cell_type": "markdown",
   "id": "665652da-6d20-4fb3-939f-7beb65554048",
   "metadata": {},
   "source": [
    "### Exercise 2"
   ]
  },
  {
   "cell_type": "code",
   "execution_count": 15,
   "id": "6174643c-e246-4bab-b180-42327e04ba21",
   "metadata": {},
   "outputs": [
    {
     "data": {
      "text/plain": [
       "[1, 9, 25, 49, 81]"
      ]
     },
     "execution_count": 15,
     "metadata": {},
     "output_type": "execute_result"
    }
   ],
   "source": [
    "[number**2 for number in range(10) if number % 2 == 1]"
   ]
  },
  {
   "cell_type": "markdown",
   "id": "8ee523f4-e6c2-483d-a6d9-47f649900b2b",
   "metadata": {},
   "source": [
    "### Exercise 3"
   ]
  },
  {
   "cell_type": "code",
   "execution_count": 4,
   "id": "8a2f069c-4397-42c5-91c5-c055ef704961",
   "metadata": {},
   "outputs": [
    {
     "name": "stdout",
     "output_type": "stream",
     "text": [
      "414 ns ± 1.43 ns per loop (mean ± std. dev. of 7 runs, 1,000,000 loops each)\n"
     ]
    }
   ],
   "source": [
    "%%timeit \n",
    "\n",
    "for factor in range(10):\n",
    "    if factor % 2 == 0:\n",
    "        continue\n",
    "    number = factor ** 2"
   ]
  },
  {
   "cell_type": "code",
   "execution_count": 16,
   "id": "95806f4e-6319-488a-b873-d2183124dad0",
   "metadata": {},
   "outputs": [
    {
     "name": "stdout",
     "output_type": "stream",
     "text": [
      "466 ns ± 1.32 ns per loop (mean ± std. dev. of 7 runs, 1,000,000 loops each)\n"
     ]
    }
   ],
   "source": [
    "%%timeit\n",
    "[number**2 for number in range(10) if number % 2 == 1]"
   ]
  },
  {
   "cell_type": "markdown",
   "id": "904fa186-e609-4caf-bb6c-a5099d690907",
   "metadata": {},
   "source": [
    "the 1st solution is faster"
   ]
  },
  {
   "cell_type": "markdown",
   "id": "1c2fcfef-238e-4554-ab5a-9474b290d34b",
   "metadata": {},
   "source": [
    "### Exercise 4"
   ]
  },
  {
   "cell_type": "code",
   "execution_count": 3,
   "id": "04ac56d3-5df0-40c7-9456-a5401151a174",
   "metadata": {},
   "outputs": [
    {
     "name": "stdout",
     "output_type": "stream",
     "text": [
      "It took 14 years to reduce the quantity to half its original amount.\n"
     ]
    }
   ],
   "source": [
    "initial_quantity = 100\n",
    "decay_rate = 0.05\n",
    "years = 0\n",
    "while initial_quantity > 50:\n",
    "    initial_quantity -= initial_quantity * decay_rate #subtracting 0.05 of initial quantity(updated) every loop\n",
    "    years += 1\n",
    "\n",
    "print(f'It took {years} years to reduce the quantity to half its original amount.')"
   ]
  },
  {
   "cell_type": "markdown",
   "id": "f7d32ff8-e653-4632-9d3c-caf2f7fc12c4",
   "metadata": {},
   "source": [
    "### Exercise 5"
   ]
  },
  {
   "cell_type": "code",
   "execution_count": 12,
   "id": "a72841cb-0c5a-4af7-bbca-3f9e7da32780",
   "metadata": {},
   "outputs": [
    {
     "name": "stdout",
     "output_type": "stream",
     "text": [
      "For year2016, change in co2 concentration is3.410000000000025 ppm.\n"
     ]
    }
   ],
   "source": [
    "co2_data = [\n",
    "    (2000, 369.55), (2001, 371.14), (2002, 373.28), \n",
    "    (2003, 375.80), (2004, 377.52), (2005, 379.80), \n",
    "    (2006, 381.90), (2007, 383.79), (2008, 385.60), \n",
    "    (2009, 387.43), (2010, 389.90), (2011, 391.65), \n",
    "    (2012, 393.85), (2013, 396.52), (2014, 398.65),\n",
    "    (2015, 400.83), (2016, 404.24), (2017, 406.55), \n",
    "    (2018, 408.52), (2019, 411.44), (2020, 414.24)\n",
    "]\n",
    "for i in range(1, len(co2_data)):\n",
    "    year, concentration = co2_data[i]\n",
    "    previous_year, previous_concentration = co2_data[i-1]\n",
    "    change = concentration - previous_concentration\n",
    "    \n",
    "    if change >= 3:\n",
    "        print(f'For year{year}, change in co2 concentration is{change} ppm.')"
   ]
  }
 ],
 "metadata": {
  "kernelspec": {
   "display_name": "Python 3 (ipykernel)",
   "language": "python",
   "name": "python3"
  },
  "language_info": {
   "codemirror_mode": {
    "name": "ipython",
    "version": 3
   },
   "file_extension": ".py",
   "mimetype": "text/x-python",
   "name": "python",
   "nbconvert_exporter": "python",
   "pygments_lexer": "ipython3",
   "version": "3.11.7"
  },
  "toc": {
   "base_numbering": 1,
   "nav_menu": {},
   "number_sections": true,
   "sideBar": true,
   "skip_h1_title": false,
   "title_cell": "Table of Contents",
   "title_sidebar": "Contents",
   "toc_cell": false,
   "toc_position": {},
   "toc_section_display": true,
   "toc_window_display": false
  },
  "vscode": {
   "interpreter": {
    "hash": "31f2aee4e71d21fbe5cf8b01ff0e069b9275f58929596ceb00d14d90e3e16cd6"
   }
  }
 },
 "nbformat": 4,
 "nbformat_minor": 5
}
