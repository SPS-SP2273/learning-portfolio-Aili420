{
 "cells": [
  {
   "attachments": {},
   "cell_type": "markdown",
   "id": "123456",
   "metadata": {},
   "source": [
    "<div style=\"text-align:left;font-size:2em\"><span style=\"font-weight:bolder;font-size:1.25em\">SP2273 | Learning Portfolio</span><br><br><span style=\"font-weight:bold;color:darkred\">Loops (Need) Exercises</span></div>"
   ]
  },
  {
   "cell_type": "markdown",
   "id": "387995e7-a0c1-43d5-a239-0e10fef6399c",
   "metadata": {},
   "source": [
    "### Exercise 1"
   ]
  },
  {
   "cell_type": "code",
   "execution_count": 2,
   "id": "bade1071-ee7a-4374-b473-6b051e9cc352",
   "metadata": {},
   "outputs": [
    {
     "name": "stdout",
     "output_type": "stream",
     "text": [
      "0 celsius is 32 fenrenheit\n",
      "5 celsius is 41 fenrenheit\n",
      "10 celsius is 50 fenrenheit\n",
      "15 celsius is 59 fenrenheit\n",
      "20 celsius is 68 fenrenheit\n",
      "25 celsius is 77 fenrenheit\n",
      "30 celsius is 86 fenrenheit\n",
      "35 celsius is 95 fenrenheit\n",
      "40 celsius is 104 fenrenheit\n",
      "45 celsius is 113 fenrenheit\n",
      "50 celsius is 122 fenrenheit\n"
     ]
    }
   ],
   "source": [
    "temperatures_celsius = [ 0, 5, 10, 15, 20, 25, 30, 35, 40, 45, 50]\n",
    "temperatures_fahrenheit = [32, 41, 50, 59, 68, 77, 86, 95, 104, 113, 122]\n",
    "for index, temperature in enumerate(temperatures_celsius):\n",
    "    fahrenheit = temperatures_fahrenheit[index]\n",
    "    print(f'{temperature} celsius is {fahrenheit} fenrenheit')"
   ]
  },
  {
   "cell_type": "markdown",
   "id": "51c4063c-0611-48c6-a7df-64336fe4d58a",
   "metadata": {},
   "source": [
    "### Exercise 2"
   ]
  },
  {
   "cell_type": "code",
   "execution_count": 3,
   "id": "6e80f20c-1ff5-47c1-9f99-02930b80488c",
   "metadata": {},
   "outputs": [
    {
     "name": "stdout",
     "output_type": "stream",
     "text": [
      "A1\tA2\tA3\t\n",
      "\n",
      "B1\tB2\tB3\t\n",
      "\n",
      "C1\tC2\tC3\t\n",
      "\n"
     ]
    }
   ],
   "source": [
    "for letter in ['A', 'B', 'C']:\n",
    "    for number in [1, 2, 3]:\n",
    "        print(f'{letter}{number}', end='\\t')\n",
    "    print('\\n')"
   ]
  },
  {
   "cell_type": "code",
   "execution_count": 36,
   "id": "58c56d64-fded-4a0d-8427-1358a556e433",
   "metadata": {},
   "outputs": [
    {
     "name": "stdout",
     "output_type": "stream",
     "text": [
      "1\t2\t3\t4\t5\t\n",
      "\n",
      "2\t4\t6\t8\t10\t\n",
      "\n",
      "3\t6\t9\t12\t15\t\n",
      "\n",
      "4\t8\t12\t16\t20\t\n",
      "\n",
      "5\t10\t15\t20\t25\t\n",
      "\n"
     ]
    }
   ],
   "source": [
    "for factor in [1, 2, 3, 4, 5]:\n",
    "    for number in [1, 2, 3, 4, 5]:\n",
    "        print(f'{factor*number}', end='\\t')\n",
    "    print('\\n')"
   ]
  }
 ],
 "metadata": {
  "kernelspec": {
   "display_name": "Python 3 (ipykernel)",
   "language": "python",
   "name": "python3"
  },
  "language_info": {
   "codemirror_mode": {
    "name": "ipython",
    "version": 3
   },
   "file_extension": ".py",
   "mimetype": "text/x-python",
   "name": "python",
   "nbconvert_exporter": "python",
   "pygments_lexer": "ipython3",
   "version": "3.11.7"
  },
  "toc": {
   "base_numbering": 1,
   "nav_menu": {},
   "number_sections": true,
   "sideBar": true,
   "skip_h1_title": false,
   "title_cell": "Table of Contents",
   "title_sidebar": "Contents",
   "toc_cell": false,
   "toc_position": {},
   "toc_section_display": true,
   "toc_window_display": false
  },
  "vscode": {
   "interpreter": {
    "hash": "31f2aee4e71d21fbe5cf8b01ff0e069b9275f58929596ceb00d14d90e3e16cd6"
   }
  }
 },
 "nbformat": 4,
 "nbformat_minor": 5
}
