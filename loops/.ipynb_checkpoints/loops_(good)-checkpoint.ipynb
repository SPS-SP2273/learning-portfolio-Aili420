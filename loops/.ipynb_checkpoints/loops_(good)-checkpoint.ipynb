{
 "cells": [
  {
   "attachments": {},
   "cell_type": "markdown",
   "id": "123456",
   "metadata": {},
   "source": [
    "<div style=\"text-align:left;font-size:2em\"><span style=\"font-weight:bolder;font-size:1.25em\">SP2273 | Learning Portfolio</span><br><br><span style=\"font-weight:bold;color:darkred\">Loops (Good)</span></div>"
   ]
  },
  {
   "attachments": {},
   "cell_type": "markdown",
   "id": "f8eff54d",
   "metadata": {},
   "source": [
    "# What to expect in this chapter"
   ]
  },
  {
   "attachments": {},
   "cell_type": "markdown",
   "id": "e977e88c",
   "metadata": {},
   "source": [
    "# 1 Interrupting the flow"
   ]
  },
  {
   "cell_type": "code",
   "execution_count": 1,
   "id": "3a6703e6-a248-42c9-b566-318825fb3790",
   "metadata": {},
   "outputs": [
    {
     "name": "stdout",
     "output_type": "stream",
     "text": [
      "0 1\n",
      "1 10\n",
      "2 100\n",
      "3 1000\n",
      "4 10000\n"
     ]
    }
   ],
   "source": [
    "for power in range(5): #only printing 5 sets of elements\n",
    "    number = 10**power\n",
    "    print(power, number)"
   ]
  },
  {
   "cell_type": "code",
   "execution_count": 5,
   "id": "61f52435-0bf3-44a9-8eaf-055d52dc7fec",
   "metadata": {},
   "outputs": [
    {
     "name": "stdout",
     "output_type": "stream",
     "text": [
      "2 raised to the power of 0 is 1.\n",
      "2 raised to the power of 1 is 2.\n",
      "2 raised to the power of 2 is 4.\n",
      "2 raised to the power of 3 is 8.\n",
      "2 raised to the power of 4 is 16.\n"
     ]
    }
   ],
   "source": [
    "for power in range(5):\n",
    "    number = 2**power\n",
    "    print(f'2 raised to the power of {power} is {number}.')"
   ]
  },
  {
   "cell_type": "code",
   "execution_count": 7,
   "id": "b23c4dc3-1fc8-4a72-9c74-510563349b97",
   "metadata": {},
   "outputs": [
    {
     "name": "stdout",
     "output_type": "stream",
     "text": [
      "2 raised to the power of 0 is 1.\n",
      "2 raised to the power of 1 is 2.\n",
      "2 raised to the power of 2 is 4.\n",
      "2 raised to the power of 3 is 8.\n",
      "2 raised to the power of 4 is 16.\n",
      "2 raised to the power of 5 is 32.\n",
      "2 raised to the power of 6 is 64.\n",
      "2 raised to the power of 7 is 128.\n",
      "2 raised to the power of 8 is 256.\n",
      "2 raised to the power of 9 is 512.\n"
     ]
    }
   ],
   "source": [
    "for power in range(50):\n",
    "    number = 2**power\n",
    "    if number >1000: #interupt the flow of loop\n",
    "        break\n",
    "    print(f'2 raised to the power of {power} is {number}.')"
   ]
  },
  {
   "cell_type": "code",
   "execution_count": 9,
   "id": "5dd45175-7b8d-4c0b-9212-b0ee09327045",
   "metadata": {},
   "outputs": [
    {
     "name": "stdout",
     "output_type": "stream",
     "text": [
      "2 raised to the power of 0 is 1.\n",
      "2 raised to the power of 2 is 4.\n",
      "2 raised to the power of 4 is 16.\n",
      "2 raised to the power of 6 is 64.\n",
      "2 raised to the power of 8 is 256.\n",
      "2 raised to the power of 10 is 1024.\n",
      "2 raised to the power of 12 is 4096.\n",
      "2 raised to the power of 14 is 16384.\n",
      "2 raised to the power of 16 is 65536.\n",
      "2 raised to the power of 18 is 262144.\n",
      "2 raised to the power of 20 is 1048576.\n",
      "2 raised to the power of 22 is 4194304.\n",
      "2 raised to the power of 24 is 16777216.\n",
      "2 raised to the power of 26 is 67108864.\n",
      "2 raised to the power of 28 is 268435456.\n",
      "2 raised to the power of 30 is 1073741824.\n",
      "2 raised to the power of 32 is 4294967296.\n",
      "2 raised to the power of 34 is 17179869184.\n",
      "2 raised to the power of 36 is 68719476736.\n",
      "2 raised to the power of 38 is 274877906944.\n",
      "2 raised to the power of 40 is 1099511627776.\n",
      "2 raised to the power of 42 is 4398046511104.\n",
      "2 raised to the power of 44 is 17592186044416.\n",
      "2 raised to the power of 46 is 70368744177664.\n",
      "2 raised to the power of 48 is 281474976710656.\n"
     ]
    }
   ],
   "source": [
    "for power in range(50):\n",
    "    if power%2 != 0 #only selecting the even powers\n",
    "        continue\n",
    "    number = 2**power\n",
    "    print(f'2 raised to the power of {power} is {number}.')"
   ]
  },
  {
   "cell_type": "code",
   "execution_count": 10,
   "id": "255c87ed-a00b-4a2e-94ab-78572f5d04c4",
   "metadata": {},
   "outputs": [
    {
     "name": "stdout",
     "output_type": "stream",
     "text": [
      "0 1\n",
      "1 10\n",
      "2 100\n",
      "4 10000\n"
     ]
    }
   ],
   "source": [
    "for power in range(5):\n",
    "    if power == 3:\n",
    "        continue        # Don't proceed further\n",
    "                        # IN THE CURRENT LOOP\n",
    "                        # if i == 3\n",
    "    number = 10**power\n",
    "    print(power, number)"
   ]
  },
  {
   "cell_type": "code",
   "execution_count": 61,
   "id": "6ac87984-3e5b-4f0e-ad00-151285c37a2b",
   "metadata": {},
   "outputs": [
    {
     "name": "stdout",
     "output_type": "stream",
     "text": [
      "1\n",
      "10\n",
      "100\n",
      "1000\n",
      "100000\n",
      "1000000\n",
      "10000000\n",
      "100000000\n",
      "1000000000\n"
     ]
    }
   ],
   "source": [
    "for power in range(10):\n",
    "    if power == 4:  # skip power 4\n",
    "        continue       \n",
    "    number = 10**power\n",
    "    print(number)"
   ]
  },
  {
   "cell_type": "code",
   "execution_count": 62,
   "id": "3e3bf6e2-0978-4a32-852f-56fe50393df5",
   "metadata": {},
   "outputs": [
    {
     "name": "stdout",
     "output_type": "stream",
     "text": [
      "1\n",
      "10\n",
      "100\n",
      "1000\n"
     ]
    }
   ],
   "source": [
    "for power in range(10):\n",
    "    if power == 4:  # do not continue if power == 4\n",
    "        break       \n",
    "    number = 10**power\n",
    "    print(number)"
   ]
  },
  {
   "cell_type": "code",
   "execution_count": 20,
   "id": "28355dfc-6cb4-41bd-a7f9-8cad1bed5570",
   "metadata": {},
   "outputs": [
    {
     "name": "stdout",
     "output_type": "stream",
     "text": [
      "1 2\n",
      "2 4\n",
      "3 8\n",
      "4 16\n",
      "5 32\n",
      "6 64\n",
      "7 128\n",
      "8 256\n"
     ]
    }
   ],
   "source": [
    "power = 0\n",
    "while True:\n",
    "    power += 1\n",
    "    number = 2**power\n",
    "    if number > 280:\n",
    "        break\n",
    "    print(power, number)"
   ]
  },
  {
   "cell_type": "code",
   "execution_count": 21,
   "id": "275e1bdb-a8cf-4a16-8d3e-c7e540e70125",
   "metadata": {},
   "outputs": [
    {
     "name": "stdout",
     "output_type": "stream",
     "text": [
      "2 4\n",
      "4 16\n",
      "6 64\n",
      "8 256\n"
     ]
    }
   ],
   "source": [
    "power = 0\n",
    "while True:\n",
    "    power += 1\n",
    "    number = 2**power\n",
    "    if power%2 !=0:\n",
    "        continue\n",
    "    if number > 280:\n",
    "        break\n",
    "    print(power, number)"
   ]
  },
  {
   "attachments": {},
   "cell_type": "markdown",
   "id": "af0a5ce5",
   "metadata": {},
   "source": [
    "# 2 List comprehension!"
   ]
  },
  {
   "attachments": {},
   "cell_type": "markdown",
   "id": "a400d3fa",
   "metadata": {},
   "source": [
    "## 2.1 Basic syntax"
   ]
  },
  {
   "cell_type": "code",
   "execution_count": 22,
   "id": "46de5207-d9f8-404b-8946-736c865de837",
   "metadata": {},
   "outputs": [
    {
     "data": {
      "text/plain": [
       "[0, 1, 2, 3, 4]"
      ]
     },
     "execution_count": 22,
     "metadata": {},
     "output_type": "execute_result"
    }
   ],
   "source": [
    "[number for number in range(5)]"
   ]
  },
  {
   "cell_type": "code",
   "execution_count": 23,
   "id": "e4b92369-9b7f-48d1-8035-b3c78dd2ee04",
   "metadata": {},
   "outputs": [
    {
     "data": {
      "text/plain": [
       "[1, 2, 4, 8, 16]"
      ]
     },
     "execution_count": 23,
     "metadata": {},
     "output_type": "execute_result"
    }
   ],
   "source": [
    "[2**number for number in range(5)]\n",
    "# 2^0, 2^1, 2^2..."
   ]
  },
  {
   "cell_type": "code",
   "execution_count": 24,
   "id": "97180e01-50ee-4fbb-a1c1-779f45ae8c78",
   "metadata": {},
   "outputs": [
    {
     "data": {
      "text/plain": [
       "[1, 2, 4, 8, 16, 32, 64, 128, 256, 512]"
      ]
     },
     "execution_count": 24,
     "metadata": {},
     "output_type": "execute_result"
    }
   ],
   "source": [
    "[2**number for number in range(10)]"
   ]
  },
  {
   "attachments": {},
   "cell_type": "markdown",
   "id": "b210567c",
   "metadata": {},
   "source": [
    "## 2.2 List comprehension with conditions"
   ]
  },
  {
   "cell_type": "code",
   "execution_count": 33,
   "id": "20259d76-0383-4afb-8c7f-2c494502cda8",
   "metadata": {},
   "outputs": [
    {
     "data": {
      "text/plain": [
       "[1, 4, 16, 64, 256]"
      ]
     },
     "execution_count": 33,
     "metadata": {},
     "output_type": "execute_result"
    }
   ],
   "source": [
    " [2**power for power in range(10) if power%2==0] # selecting even powers"
   ]
  },
  {
   "attachments": {},
   "cell_type": "markdown",
   "id": "11b35bc2",
   "metadata": {},
   "source": [
    "# 3 Other useful stuff"
   ]
  },
  {
   "attachments": {},
   "cell_type": "markdown",
   "id": "b34019c8",
   "metadata": {},
   "source": [
    "## 3.1 for with unpacking"
   ]
  },
  {
   "cell_type": "code",
   "execution_count": 38,
   "id": "dfc85804-96b2-4f7b-af47-69c7686c0077",
   "metadata": {},
   "outputs": [],
   "source": [
    "x,y,z = 1,2,3"
   ]
  },
  {
   "cell_type": "code",
   "execution_count": 39,
   "id": "a1b15cab-0835-4347-8eb4-dab84784bf89",
   "metadata": {},
   "outputs": [
    {
     "name": "stdout",
     "output_type": "stream",
     "text": [
      "x=1, y=2, z=3\n"
     ]
    }
   ],
   "source": [
    "print(f'{x=}, {y=}, {z=}')"
   ]
  },
  {
   "cell_type": "code",
   "execution_count": 36,
   "id": "92865c72-bd71-4905-81e5-80dbd43b650c",
   "metadata": {},
   "outputs": [],
   "source": [
    "x,y,z = [10,20,30]"
   ]
  },
  {
   "cell_type": "code",
   "execution_count": 37,
   "id": "6f7dbda1-8ca0-40a2-b2cc-05a2665da070",
   "metadata": {},
   "outputs": [
    {
     "name": "stdout",
     "output_type": "stream",
     "text": [
      "x=10, y=20, z=30\n"
     ]
    }
   ],
   "source": [
    "print(f'{x=}, {y=}, {z=}')"
   ]
  },
  {
   "cell_type": "code",
   "execution_count": 40,
   "id": "592f6ad6-cdf5-4ee1-bb3e-98d984e58062",
   "metadata": {},
   "outputs": [
    {
     "name": "stdout",
     "output_type": "stream",
     "text": [
      "Natasha Romanoff is Marvel's Black Widow!\n",
      "Tony Stark is Marvel's Iron Man!\n",
      "Stephen Strange is Marvel's Doctor Strange!\n"
     ]
    }
   ],
   "source": [
    "py_superhero_info = [['Natasha Romanoff', 'Black Widow'],\n",
    "                     ['Tony Stark', 'Iron Man'],\n",
    "                     ['Stephen Strange', 'Doctor Strange']]\n",
    "\n",
    "for real_name, super_name in py_superhero_info: # follow order in the list\n",
    "    print(f\"{real_name} is Marvel's {super_name}!\")"
   ]
  },
  {
   "cell_type": "code",
   "execution_count": 42,
   "id": "78584a92-f2cd-4b7b-9086-6d9783df8bcf",
   "metadata": {},
   "outputs": [
    {
     "name": "stdout",
     "output_type": "stream",
     "text": [
      "Black Widow is Marvel's Natasha Romanoff!\n",
      "Iron Man is Marvel's Tony Stark!\n",
      "Doctor Strange is Marvel's Stephen Strange!\n"
     ]
    }
   ],
   "source": [
    "py_superhero_info = [['Natasha Romanoff', 'Black Widow'],\n",
    "                     ['Tony Stark', 'Iron Man'],\n",
    "                     ['Stephen Strange', 'Doctor Strange']]\n",
    "\n",
    "for super_name, real_name in py_superhero_info: # unpacked in wrong order\n",
    "    print(f\"{real_name} is Marvel's {super_name}!\")"
   ]
  },
  {
   "attachments": {},
   "cell_type": "markdown",
   "id": "1091c325",
   "metadata": {},
   "source": [
    "## 3.2 for with zip()"
   ]
  },
  {
   "cell_type": "code",
   "execution_count": 47,
   "id": "c988c3dd-384a-4cc6-9670-4400074fb2a1",
   "metadata": {},
   "outputs": [
    {
     "name": "stdout",
     "output_type": "stream",
     "text": [
      "Natasha Romanoff is Marvel's Black Widow!\n",
      "Tony Stark is Marvel's Iron Man!\n",
      "Stephen Strange is Marvel's Doctor Strange!\n"
     ]
    }
   ],
   "source": [
    "super_names = [\"Black Widow\", \"Iron Man\", \"Doctor Strange\"]\n",
    "real_names = [\"Natasha Romanoff\", \"Tony Stark\", \"Stephen Strange\"]\n",
    "y = ['a', 'b', 'c']\n",
    "\n",
    "for real_name, super_name in zip(real_names,super_names): # combine 2 lists together, only works when applied for smth\n",
    "    print(f\"{real_name} is Marvel's {super_name}!\")"
   ]
  },
  {
   "cell_type": "code",
   "execution_count": 45,
   "id": "d0a26f98-daeb-476e-8614-2947e6c94c6d",
   "metadata": {},
   "outputs": [
    {
     "data": {
      "text/plain": [
       "[('Natasha Romanoff', 'Black Widow'),\n",
       " ('Tony Stark', 'Iron Man'),\n",
       " ('Stephen Strange', 'Doctor Strange')]"
      ]
     },
     "execution_count": 45,
     "metadata": {},
     "output_type": "execute_result"
    }
   ],
   "source": [
    "list(zip(real_names, super_names)) # comebine 2 lists together"
   ]
  },
  {
   "cell_type": "code",
   "execution_count": 48,
   "id": "02e0e421-517f-45ad-b729-b2b940316d0d",
   "metadata": {},
   "outputs": [
    {
     "data": {
      "text/plain": [
       "[('Natasha Romanoff', 'Black Widow', 'a'),\n",
       " ('Tony Stark', 'Iron Man', 'b'),\n",
       " ('Stephen Strange', 'Doctor Strange', 'c')]"
      ]
     },
     "execution_count": 48,
     "metadata": {},
     "output_type": "execute_result"
    }
   ],
   "source": [
    "list(zip(real_names, super_names, y)) # 3 lists"
   ]
  },
  {
   "attachments": {},
   "cell_type": "markdown",
   "id": "01de1eef",
   "metadata": {},
   "source": [
    "## 3.3 for with dictionaries"
   ]
  },
  {
   "cell_type": "code",
   "execution_count": 54,
   "id": "231517f0-c9b5-4395-83bf-ea57aa9c7b8d",
   "metadata": {},
   "outputs": [
    {
     "name": "stdout",
     "output_type": "stream",
     "text": [
      "Natasha Romanoff is Marvel's Black Widow!\n",
      "Tony Stark is Marvel's Iron Man!\n",
      "Stephen Strange is Marvel's Doctor Strange!\n"
     ]
    }
   ],
   "source": [
    "superhero_info={\"Natasha Romanoff\": \"Black Widow\", # key, value\n",
    "                \"Tony Stark\": \"Iron Man\",\n",
    "                \"Stephen Strange\": \"Doctor Strange\"}\n",
    "\n",
    "for key, value in superhero_info.items():\n",
    "    print(f\"{key} is Marvel's {value}!\")"
   ]
  },
  {
   "cell_type": "code",
   "execution_count": 57,
   "id": "f48a83ba-4cd2-484d-91fa-68e48e4b6f9d",
   "metadata": {},
   "outputs": [
    {
     "data": {
      "text/plain": [
       "[('Natasha Romanoff', 'Black Widow'),\n",
       " ('Tony Stark', 'Iron Man'),\n",
       " ('Stephen Strange', 'Doctor Strange')]"
      ]
     },
     "execution_count": 57,
     "metadata": {},
     "output_type": "execute_result"
    }
   ],
   "source": [
    "list(superhero_info.items()) # converts into a list"
   ]
  },
  {
   "cell_type": "code",
   "execution_count": 58,
   "id": "d1baba8b-a0bf-420a-b0ae-b7d62fcb6e4f",
   "metadata": {},
   "outputs": [
    {
     "data": {
      "text/plain": [
       "['Natasha Romanoff', 'Tony Stark', 'Stephen Strange']"
      ]
     },
     "execution_count": 58,
     "metadata": {},
     "output_type": "execute_result"
    }
   ],
   "source": [
    "list(superhero_info.keys()) # extract keys only"
   ]
  }
 ],
 "metadata": {
  "kernelspec": {
   "display_name": "Python 3 (ipykernel)",
   "language": "python",
   "name": "python3"
  },
  "language_info": {
   "codemirror_mode": {
    "name": "ipython",
    "version": 3
   },
   "file_extension": ".py",
   "mimetype": "text/x-python",
   "name": "python",
   "nbconvert_exporter": "python",
   "pygments_lexer": "ipython3",
   "version": "3.11.7"
  },
  "toc": {
   "base_numbering": 1,
   "nav_menu": {},
   "number_sections": true,
   "sideBar": true,
   "skip_h1_title": false,
   "title_cell": "Table of Contents",
   "title_sidebar": "Contents",
   "toc_cell": false,
   "toc_position": {},
   "toc_section_display": true,
   "toc_window_display": false
  },
  "vscode": {
   "interpreter": {
    "hash": "31f2aee4e71d21fbe5cf8b01ff0e069b9275f58929596ceb00d14d90e3e16cd6"
   }
  }
 },
 "nbformat": 4,
 "nbformat_minor": 5
}
