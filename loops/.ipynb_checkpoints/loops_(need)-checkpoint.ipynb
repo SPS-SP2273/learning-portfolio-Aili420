{
 "cells": [
  {
   "attachments": {},
   "cell_type": "markdown",
   "id": "123456",
   "metadata": {},
   "source": [
    "<div style=\"text-align:left;font-size:2em\"><span style=\"font-weight:bolder;font-size:1.25em\">SP2273 | Learning Portfolio</span><br><br><span style=\"font-weight:bold;color:darkred\">Loops (Need)</span></div>"
   ]
  },
  {
   "attachments": {},
   "cell_type": "markdown",
   "id": "dc341be3",
   "metadata": {},
   "source": [
    "# What to expect in this chapter"
   ]
  },
  {
   "attachments": {},
   "cell_type": "markdown",
   "id": "4a95210d",
   "metadata": {},
   "source": [
    "# 1 The for iterator"
   ]
  },
  {
   "cell_type": "code",
   "execution_count": 4,
   "id": "e62b7328-b87d-42b4-9760-307296b5022b",
   "metadata": {},
   "outputs": [
    {
     "name": "stdout",
     "output_type": "stream",
     "text": [
      "Natasha Romanoff is a Marvel superhero!\n",
      "Tony Stark is a Marvel superhero!\n",
      "Stephen Strange is a Marvel superhero!\n"
     ]
    }
   ],
   "source": [
    "real_names = [\"Natasha Romanoff\", \"Tony Stark\", \"Stephen Strange\"]\n",
    "name=real_names[0]\n",
    "print(f\"{name} is a Marvel superhero!\")\n",
    "\n",
    "name=real_names[1]\n",
    "print(f\"{name} is a Marvel superhero!\")\n",
    "\n",
    "name=real_names[2]\n",
    "print(f\"{name} is a Marvel superhero!\")"
   ]
  },
  {
   "attachments": {},
   "cell_type": "markdown",
   "id": "3fd3f67e",
   "metadata": {},
   "source": [
    "## 1.1 for with a list"
   ]
  },
  {
   "cell_type": "code",
   "execution_count": 2,
   "id": "d8985527-da4e-489a-810c-33a1408e1060",
   "metadata": {},
   "outputs": [
    {
     "name": "stdout",
     "output_type": "stream",
     "text": [
      "Natasha Romanoff is a Marvel superhero!\n",
      "Tony Stark is a Marvel superhero!\n",
      "Stephen Strange is a Marvel superhero!\n"
     ]
    }
   ],
   "source": [
    "for name in real_names: # assign name the value of each elements in list\n",
    "    print(f\"{name} is a Marvel superhero!\") "
   ]
  },
  {
   "cell_type": "code",
   "execution_count": 7,
   "id": "198fe38c-75bd-4e5c-8613-e7cc7e794693",
   "metadata": {},
   "outputs": [
    {
     "name": "stdout",
     "output_type": "stream",
     "text": [
      "A is a letter!\n",
      "B is a letter!\n",
      "C is a letter!\n"
     ]
    }
   ],
   "source": [
    "y = ['A', 'B', 'C'] \n",
    "for x in y: \n",
    "    print(f'{x} is a letter!')"
   ]
  },
  {
   "attachments": {},
   "cell_type": "markdown",
   "id": "1d18fda0",
   "metadata": {},
   "source": [
    "## 1.2 for with enumerate"
   ]
  },
  {
   "cell_type": "code",
   "execution_count": 8,
   "id": "c84689c7-0dd0-4930-90a8-cd51a8a57c13",
   "metadata": {},
   "outputs": [
    {
     "name": "stdout",
     "output_type": "stream",
     "text": [
      "0: Natasha Romanoff is a Marvel superhero!\n",
      "1: Tony Stark is a Marvel superhero!\n",
      "2: Stephen Strange is a Marvel superhero!\n"
     ]
    }
   ],
   "source": [
    "super_names = [\"Black Widow\", \"Iron Man\", \"Doctor Strange\"]\n",
    "real_names = [\"Natasha Romanoff\", \"Tony Stark\", \"Stephen Strange\"]\n",
    "for count, name in enumerate(real_names):\n",
    "    print(f'{count}: {name} is a Marvel superhero!')"
   ]
  },
  {
   "cell_type": "code",
   "execution_count": 33,
   "id": "493a81ca-3af7-487e-a2a4-014cd8648693",
   "metadata": {},
   "outputs": [
    {
     "name": "stdout",
     "output_type": "stream",
     "text": [
      "0: Apple is good for you!\n",
      "1: Banana is good for you!\n",
      "2: Citrus is good for you!\n"
     ]
    }
   ],
   "source": [
    "fruit_names = ['Apple', 'Banana', 'Citrus']\n",
    "y = ['a', 'b', 'c'] # 2 separate lists\n",
    "for count, fruit in enumerate(fruit_names):\n",
    "    print(f'{count}: {fruit} is good for you!') # gives the corresponding no stored in count"
   ]
  },
  {
   "cell_type": "code",
   "execution_count": 27,
   "id": "f08571d2-ae55-464c-bc5c-6052b5c0a261",
   "metadata": {},
   "outputs": [
    {
     "name": "stdout",
     "output_type": "stream",
     "text": [
      "0: a is the first letter of the fruit!\n",
      "1: b is the first letter of the fruit!\n",
      "2: c is the first letter of the fruit!\n"
     ]
    }
   ],
   "source": [
    "for count, letter in enumerate(y): # accessing the other list\n",
    "    print(f'{count}: {letter} is the first letter of the fruit!')"
   ]
  },
  {
   "cell_type": "code",
   "execution_count": 31,
   "id": "0b3b6edb-d183-4527-8412-dbad5f738353",
   "metadata": {},
   "outputs": [
    {
     "name": "stdout",
     "output_type": "stream",
     "text": [
      "100: a is the first letter of the fruit!\n",
      "101: b is the first letter of the fruit!\n",
      "102: c is the first letter of the fruit!\n"
     ]
    }
   ],
   "source": [
    "for count, letter in enumerate(y, 100): # start counting from 100\n",
    "    print(f'{count}: {letter} is the first letter of the fruit!')"
   ]
  },
  {
   "cell_type": "code",
   "execution_count": 30,
   "id": "f21e4ddd-5bb3-4007-b0db-a2cfeb590a4e",
   "metadata": {},
   "outputs": [
    {
     "name": "stdout",
     "output_type": "stream",
     "text": [
      "a is the first letter of Apple\n",
      "b is the first letter of Banana\n",
      "c is the first letter of Citrus\n"
     ]
    }
   ],
   "source": [
    "for index, fruit in enumerate(y):\n",
    "    realfruit_names = fruit_names[index]\n",
    "    print(f'{fruit} is the first letter of {realfruit_names}')"
   ]
  },
  {
   "attachments": {},
   "cell_type": "markdown",
   "id": "0e2cd3b9",
   "metadata": {},
   "source": [
    "## 1.3 for with range"
   ]
  },
  {
   "cell_type": "code",
   "execution_count": 34,
   "id": "481eaad0-aebe-4702-8b7f-7fdbd78943c8",
   "metadata": {},
   "outputs": [
    {
     "name": "stdout",
     "output_type": "stream",
     "text": [
      "0\n",
      "1\n",
      "2\n",
      "3\n",
      "4\n"
     ]
    }
   ],
   "source": [
    "for i in range(5): # run 5 loops, starting from 0\n",
    "    print(i)"
   ]
  },
  {
   "cell_type": "code",
   "execution_count": 37,
   "id": "c40005fc-8af2-4693-815d-de4001173b8e",
   "metadata": {},
   "outputs": [
    {
     "name": "stdout",
     "output_type": "stream",
     "text": [
      "8\n",
      "9\n",
      "10\n",
      "11\n",
      "12\n",
      "13\n",
      "14\n",
      "15\n",
      "16\n",
      "17\n",
      "18\n"
     ]
    }
   ],
   "source": [
    "for x in range(8,19): # tailor start and end\n",
    "    print(x)"
   ]
  },
  {
   "cell_type": "code",
   "execution_count": 41,
   "id": "013b9d47-e7ec-4642-be47-6e9f2433794f",
   "metadata": {},
   "outputs": [
    {
     "name": "stdout",
     "output_type": "stream",
     "text": [
      "1\n",
      "2\n",
      "3\n",
      "4\n",
      "5\n",
      "6\n",
      "7\n",
      "8\n",
      "9\n"
     ]
    }
   ],
   "source": [
    "for y in range(1,10): # starts at 1\n",
    "    print(y)"
   ]
  },
  {
   "cell_type": "code",
   "execution_count": 44,
   "id": "73f76c4c-332c-4e55-8c90-3e848581b7df",
   "metadata": {},
   "outputs": [
    {
     "name": "stdout",
     "output_type": "stream",
     "text": [
      "1\n",
      "4\n",
      "7\n"
     ]
    }
   ],
   "source": [
    "for y in range(1,10,3): # within the range of 1 to 10, take every 3\n",
    "    print(y)"
   ]
  },
  {
   "cell_type": "code",
   "execution_count": 67,
   "id": "05cf7c2d-be6b-465e-a88a-036efa0c2244",
   "metadata": {},
   "outputs": [
    {
     "name": "stdout",
     "output_type": "stream",
     "text": [
      "10\n",
      "7\n",
      "4\n"
     ]
    }
   ],
   "source": [
    "for y in range(10,1,-3): #reverse of above\n",
    "    print(y)"
   ]
  },
  {
   "cell_type": "code",
   "execution_count": 54,
   "id": "40a8d8e0-e535-4ebf-b92e-ebe06499a67f",
   "metadata": {},
   "outputs": [
    {
     "name": "stdout",
     "output_type": "stream",
     "text": [
      "a is the first letter of Apple!\n",
      "b is the first letter of Banana!\n",
      "c is the first letter of Citrus!\n"
     ]
    }
   ],
   "source": [
    "fruit_names = ['Apple', 'Banana', 'Citrus']\n",
    "y = ['a', 'b', 'c']\n",
    "\n",
    "for n in range(len(y)): # to get how many times loop should run\n",
    "    letter = y[n]\n",
    "    fruit_name = fruit_names[n]\n",
    "    print(f'{letter} is the first letter of {fruit_name}!')"
   ]
  },
  {
   "attachments": {},
   "cell_type": "markdown",
   "id": "51833f3f",
   "metadata": {},
   "source": [
    "# 2 while"
   ]
  },
  {
   "cell_type": "code",
   "execution_count": 51,
   "id": "c2f80ad4-c380-40d8-b4ce-0bba4c3f9b15",
   "metadata": {},
   "outputs": [
    {
     "name": "stdout",
     "output_type": "stream",
     "text": [
      "0\n",
      "1\n",
      "2\n",
      "3\n",
      "4\n"
     ]
    }
   ],
   "source": [
    "number = 0\n",
    "\n",
    "while number < 5:\n",
    "    print(number)\n",
    "    number += 1"
   ]
  },
  {
   "cell_type": "code",
   "execution_count": 53,
   "id": "391dd717-f1d6-4fbd-9d89-ad58365cb672",
   "metadata": {},
   "outputs": [
    {
     "name": "stdout",
     "output_type": "stream",
     "text": [
      "0\n",
      "1\n",
      "2\n",
      "3\n",
      "4\n",
      "5\n"
     ]
    }
   ],
   "source": [
    "number = 0\n",
    "\n",
    "while number <= 5:\n",
    "    print(number)\n",
    "    number += 1"
   ]
  }
 ],
 "metadata": {
  "kernelspec": {
   "display_name": "Python 3 (ipykernel)",
   "language": "python",
   "name": "python3"
  },
  "language_info": {
   "codemirror_mode": {
    "name": "ipython",
    "version": 3
   },
   "file_extension": ".py",
   "mimetype": "text/x-python",
   "name": "python",
   "nbconvert_exporter": "python",
   "pygments_lexer": "ipython3",
   "version": "3.11.7"
  },
  "toc": {
   "base_numbering": 1,
   "nav_menu": {},
   "number_sections": true,
   "sideBar": true,
   "skip_h1_title": false,
   "title_cell": "Table of Contents",
   "title_sidebar": "Contents",
   "toc_cell": false,
   "toc_position": {},
   "toc_section_display": true,
   "toc_window_display": false
  },
  "vscode": {
   "interpreter": {
    "hash": "31f2aee4e71d21fbe5cf8b01ff0e069b9275f58929596ceb00d14d90e3e16cd6"
   }
  }
 },
 "nbformat": 4,
 "nbformat_minor": 5
}
