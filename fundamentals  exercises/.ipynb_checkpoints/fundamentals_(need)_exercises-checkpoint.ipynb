{
 "cells": [
  {
   "attachments": {},
   "cell_type": "markdown",
   "id": "123456",
   "metadata": {},
   "source": [
    "<div style=\"text-align:left;font-size:2em\"><span style=\"font-weight:bolder;font-size:1.25em\">SP2273 | Learning Portfolio</span><br><br><span style=\"font-weight:bold;color:darkred\">Fundamentals (Need) Exercises</span></div>"
   ]
  },
  {
   "cell_type": "markdown",
   "id": "d1417e38-f6f6-449f-91ea-a0a1411db502",
   "metadata": {},
   "source": [
    "## Exercise 1"
   ]
  },
  {
   "cell_type": "markdown",
   "id": "183eaf7a-db02-476a-938a-bd7ec9ac29f0",
   "metadata": {},
   "source": [
    "1. making table\n",
    "2. making list\n",
    "3. making decision\n",
    "4. formating (align left/right/center based on a block of characters, break line ect)\n",
    "5. solving/displaying math equations\n",
    "6. inserting picture\n",
    "7. defining variables\n",
    "8. dictionary\n",
    "9. *headings*\n",
    "10. *displaying codes*\n",
    "11. *creating links*\n",
    "12. *comments*\n",
    "13. *using == to ask questions*\n",
    "14. *using '' to differentiate variables and English*\n",
    "15. *importing math package, math and numpy*\n",
    "16. *using . to indicate ownership*"
   ]
  },
  {
   "cell_type": "markdown",
   "id": "cbe45127-1e2b-4476-aec4-b5a19f5df74c",
   "metadata": {},
   "source": [
    "## Exercise 2"
   ]
  },
  {
   "cell_type": "code",
   "execution_count": 13,
   "id": "6f45e50f-de70-4c53-89a9-abace87d7305",
   "metadata": {},
   "outputs": [
    {
     "name": "stdout",
     "output_type": "stream",
     "text": [
      "3, 4, 5\n"
     ]
    }
   ],
   "source": [
    "x, y = 3, 4\n",
    "import math\n",
    "z = math.sqrt(x**2 + y**2)\n",
    "print(f'{x}, {y}, {z:.0f}')"
   ]
  },
  {
   "cell_type": "markdown",
   "id": "131eb35c-2d3d-4bfe-bdac-45dd24346b46",
   "metadata": {},
   "source": [
    "## Exercise 3"
   ]
  },
  {
   "cell_type": "markdown",
   "id": "73aa1f69-861d-46a6-a8b7-a577917e9ec1",
   "metadata": {},
   "source": [
    "| **#** | **Term**     | **Description**                               |\n",
    "|-------|--------------|-----------------------------------------------|\n",
    "| 1     | Function     | using print() to do a specific task           |\n",
    "| 2     | Arguments    | input into function, a specific task          |\n",
    "| 3     | Comments     | using # to display comment, ignored by Python |\n",
    "| 4     | Indentations | separate true and false blocks                |\n",
    "| 5     | Packages     | import packages to supplement python          |\n",
    "| 6     | .            | indicate ownership                            |\n",
    "| 7     | :            | used in fstring to give property to variable  |\n",
    "| 8     | []           | display list of data                          |\n",
    "| 9     | [[[]]]       | 2D list                                       |\n",
    "| 10    | {}           | dictionary, store data                        |"
   ]
  },
  {
   "cell_type": "markdown",
   "id": "df39a65c-ccc8-481d-a3ea-90541bc75731",
   "metadata": {},
   "source": [
    "## Exercise 4"
   ]
  },
  {
   "cell_type": "code",
   "execution_count": 14,
   "id": "32199df8-6e5b-452f-87f3-499af227f8d0",
   "metadata": {},
   "outputs": [
    {
     "data": {
      "text/plain": [
       "2.5"
      ]
     },
     "execution_count": 14,
     "metadata": {},
     "output_type": "execute_result"
    }
   ],
   "source": [
    "5/2 # standard division"
   ]
  },
  {
   "cell_type": "code",
   "execution_count": 15,
   "id": "406ab5b6-7713-4270-a6df-994e7b6e143c",
   "metadata": {},
   "outputs": [
    {
     "data": {
      "text/plain": [
       "2"
      ]
     },
     "execution_count": 15,
     "metadata": {},
     "output_type": "execute_result"
    }
   ],
   "source": [
    "5//2 # whole number, remove decimal"
   ]
  },
  {
   "cell_type": "code",
   "execution_count": 17,
   "id": "51820a83-93d7-4532-891a-4589f76da8c7",
   "metadata": {},
   "outputs": [
    {
     "data": {
      "text/plain": [
       "1"
      ]
     },
     "execution_count": 17,
     "metadata": {},
     "output_type": "execute_result"
    }
   ],
   "source": [
    "5%2 # display remainder "
   ]
  }
 ],
 "metadata": {
  "kernelspec": {
   "display_name": "Python 3 (ipykernel)",
   "language": "python",
   "name": "python3"
  },
  "language_info": {
   "codemirror_mode": {
    "name": "ipython",
    "version": 3
   },
   "file_extension": ".py",
   "mimetype": "text/x-python",
   "name": "python",
   "nbconvert_exporter": "python",
   "pygments_lexer": "ipython3",
   "version": "3.11.7"
  },
  "toc": {
   "base_numbering": 1,
   "nav_menu": {},
   "number_sections": true,
   "sideBar": true,
   "skip_h1_title": false,
   "title_cell": "Table of Contents",
   "title_sidebar": "Contents",
   "toc_cell": false,
   "toc_position": {},
   "toc_section_display": true,
   "toc_window_display": false
  },
  "vscode": {
   "interpreter": {
    "hash": "31f2aee4e71d21fbe5cf8b01ff0e069b9275f58929596ceb00d14d90e3e16cd6"
   }
  }
 },
 "nbformat": 4,
 "nbformat_minor": 5
}
