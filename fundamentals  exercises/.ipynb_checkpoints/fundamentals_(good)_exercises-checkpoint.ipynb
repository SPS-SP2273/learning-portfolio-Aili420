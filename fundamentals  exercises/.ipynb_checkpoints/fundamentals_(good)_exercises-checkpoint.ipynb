{
 "cells": [
  {
   "attachments": {},
   "cell_type": "markdown",
   "id": "123456",
   "metadata": {},
   "source": [
    "<div style=\"text-align:left;font-size:2em\"><span style=\"font-weight:bolder;font-size:1.25em\">SP2273 | Learning Portfolio</span><br><br><span style=\"font-weight:bold;color:darkred\">Fundamentals (Good) Exercises</span></div>"
   ]
  },
  {
   "cell_type": "markdown",
   "id": "5df38b7f-13fb-47f2-9b7a-33684ac9c8ea",
   "metadata": {},
   "source": [
    "### step 1"
   ]
  },
  {
   "cell_type": "code",
   "execution_count": 1,
   "id": "c92a5aff-cf3d-4421-93c7-fa083a41bcd3",
   "metadata": {},
   "outputs": [
    {
     "name": "stdin",
     "output_type": "stream",
     "text": [
      "Give me a number? 2\n"
     ]
    },
    {
     "name": "stdout",
     "output_type": "stream",
     "text": [
      "You entered 2\n"
     ]
    }
   ],
   "source": [
    "user_input = input('Give me a number?')\n",
    "print('You entered', user_input)"
   ]
  },
  {
   "cell_type": "code",
   "execution_count": 2,
   "id": "b1243e56-d65e-4710-b039-2b0d34ba1eaa",
   "metadata": {},
   "outputs": [
    {
     "name": "stdin",
     "output_type": "stream",
     "text": [
      "Give me a number? 33\n"
     ]
    },
    {
     "name": "stdout",
     "output_type": "stream",
     "text": [
      "You entered 33\n"
     ]
    }
   ],
   "source": [
    "user_input = input('Give me a number?')\n",
    "print('You entered', user_input)"
   ]
  },
  {
   "cell_type": "markdown",
   "id": "613360c7-e569-4688-9953-a89f3d99b6ce",
   "metadata": {},
   "source": [
    "### Task"
   ]
  },
  {
   "cell_type": "code",
   "execution_count": 23,
   "id": "38adae98-21ea-4e2d-ae96-c1d80e6a26d2",
   "metadata": {},
   "outputs": [
    {
     "name": "stdin",
     "output_type": "stream",
     "text": [
      "Enter the student's score:  33\n"
     ]
    },
    {
     "name": "stdout",
     "output_type": "stream",
     "text": [
      "The student's letter grade is: Fail\n"
     ]
    }
   ],
   "source": [
    "score = int(input(\"Enter the student's score: \"))\n",
    "\n",
    "if score >= 70 and score <= 100:\n",
    "    print(\"The student's letter grade is: A\")\n",
    "elif score >= 50 and score <= 69:\n",
    "    print(\"The student's letter grade is: B\")\n",
    "elif score >= 35 and score <= 49:\n",
    "    print(\"The student's letter grade is: C\")\n",
    "elif score >= 0 and score <= 34:\n",
    "    print(\"The student's letter grade is: Fail\")\n",
    "else:\n",
    "    print (\"Invalid Input\")"
   ]
  },
  {
   "cell_type": "code",
   "execution_count": 30,
   "id": "dffe6537-b634-4b14-8345-f4445930938c",
   "metadata": {},
   "outputs": [
    {
     "name": "stdin",
     "output_type": "stream",
     "text": [
      "Enter the student's score:  23\n"
     ]
    },
    {
     "name": "stdout",
     "output_type": "stream",
     "text": [
      "The student's letter grade is: Fail\n"
     ]
    }
   ],
   "source": [
    "score = input(\"Enter the student's score: \")\n",
    "score = int(score)\n",
    "if score >= 70 and score <= 100:\n",
    "    print(\"The student's letter grade is: A\")\n",
    "elif score >= 50 and score <= 69:\n",
    "    print(\"The student's letter grade is: B\")\n",
    "elif score >= 35 and score <= 49:\n",
    "    print(\"The student's letter grade is: C\")\n",
    "elif score >= 0 and score <= 34:\n",
    "    print(\"The student's letter grade is: Fail\")\n",
    "else:\n",
    "    print (\"Invalid Input\")"
   ]
  },
  {
   "cell_type": "code",
   "execution_count": 31,
   "id": "13c05829-72c6-4e59-83fd-d5e122feba36",
   "metadata": {},
   "outputs": [
    {
     "name": "stdin",
     "output_type": "stream",
     "text": [
      "Enter the student's score:  67\n"
     ]
    },
    {
     "name": "stdout",
     "output_type": "stream",
     "text": [
      "The student's letter grade is: B\n"
     ]
    }
   ],
   "source": [
    "def calculate_letter_grade(score):\n",
    "    if score >= 70 and score <= 100:\n",
    "        return 'A'\n",
    "    elif score >= 50 and score <= 69:\n",
    "        return 'B'\n",
    "    elif score >= 35 and score <= 49:\n",
    "        return 'C'\n",
    "    elif score >= 0 and score <= 34:\n",
    "        return 'Fail'\n",
    "    else:\n",
    "        return 'Invalid Input'\n",
    "\n",
    "def main():\n",
    "    try:\n",
    "        score = int(input(\"Enter the student's score: \"))\n",
    "        if score < 0 or score > 100:\n",
    "            print(\"Error: Score must be between 0 and 100.\")\n",
    "        else:\n",
    "            letter_grade = calculate_letter_grade(score)\n",
    "            print(\"The student's letter grade is:\", letter_grade)\n",
    "    except ValueError:\n",
    "        print(\"Error: Please enter a valid numerical score.\")\n",
    "\n",
    "if __name__ == \"__main__\":\n",
    "    main()"
   ]
  }
 ],
 "metadata": {
  "kernelspec": {
   "display_name": "Python 3 (ipykernel)",
   "language": "python",
   "name": "python3"
  },
  "language_info": {
   "codemirror_mode": {
    "name": "ipython",
    "version": 3
   },
   "file_extension": ".py",
   "mimetype": "text/x-python",
   "name": "python",
   "nbconvert_exporter": "python",
   "pygments_lexer": "ipython3",
   "version": "3.11.7"
  },
  "toc": {
   "base_numbering": 1,
   "nav_menu": {},
   "number_sections": true,
   "sideBar": true,
   "skip_h1_title": false,
   "title_cell": "Table of Contents",
   "title_sidebar": "Contents",
   "toc_cell": false,
   "toc_position": {},
   "toc_section_display": true,
   "toc_window_display": false
  },
  "vscode": {
   "interpreter": {
    "hash": "31f2aee4e71d21fbe5cf8b01ff0e069b9275f58929596ceb00d14d90e3e16cd6"
   }
  }
 },
 "nbformat": 4,
 "nbformat_minor": 5
}
