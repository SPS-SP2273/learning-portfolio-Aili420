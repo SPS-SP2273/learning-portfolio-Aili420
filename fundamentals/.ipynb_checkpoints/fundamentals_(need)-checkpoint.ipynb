{
 "cells": [
  {
   "attachments": {},
   "cell_type": "markdown",
   "id": "123456",
   "metadata": {},
   "source": [
    "<div style=\"text-align:left;font-size:2em\"><span style=\"font-weight:bolder;font-size:1.25em\">SP2273 | Learning Portfolio</span><br><br><span style=\"font-weight:bold;color:darkred\">Fundamentals (Need)</span></div>"
   ]
  },
  {
   "attachments": {},
   "cell_type": "markdown",
   "id": "dadc9a79",
   "metadata": {},
   "source": [
    "# What to expect in this chapter"
   ]
  },
  {
   "attachments": {},
   "cell_type": "markdown",
   "id": "2cf185c5",
   "metadata": {},
   "source": [
    "# 1 Functions"
   ]
  },
  {
   "cell_type": "code",
   "execution_count": 1,
   "id": "7a8b1a06-c1db-4ebd-8eb3-002c00eb31d5",
   "metadata": {},
   "outputs": [
    {
     "name": "stdout",
     "output_type": "stream",
     "text": [
      "Hello World\n"
     ]
    }
   ],
   "source": [
    "print('Hello World')"
   ]
  },
  {
   "attachments": {},
   "cell_type": "markdown",
   "id": "455b4190",
   "metadata": {},
   "source": [
    "# 2 Remember"
   ]
  },
  {
   "cell_type": "code",
   "execution_count": 2,
   "id": "8a6d7858-4db1-4956-a10a-aeb2e382138d",
   "metadata": {},
   "outputs": [
    {
     "name": "stdout",
     "output_type": "stream",
     "text": [
      "hello world\n",
      "hello world\n"
     ]
    }
   ],
   "source": [
    "print('hello world')\n",
    "print('hello world')"
   ]
  },
  {
   "attachments": {},
   "cell_type": "markdown",
   "id": "8d5cca41",
   "metadata": {},
   "source": [
    "# 3 Python is interpreted"
   ]
  },
  {
   "cell_type": "code",
   "execution_count": 3,
   "id": "b85852a9-2052-44ea-a0d1-f16d81e29533",
   "metadata": {},
   "outputs": [
    {
     "name": "stdout",
     "output_type": "stream",
     "text": [
      "hello world\n",
      "hello world again\n"
     ]
    }
   ],
   "source": [
    "print('hello world')\n",
    "print('hello world again')"
   ]
  },
  {
   "attachments": {},
   "cell_type": "markdown",
   "id": "e1c9e5a5",
   "metadata": {},
   "source": [
    "# 4 Python is sensitive."
   ]
  },
  {
   "cell_type": "code",
   "execution_count": 5,
   "id": "ab962ebf-7204-49e0-bb56-8241a8bf5b29",
   "metadata": {},
   "outputs": [
    {
     "ename": "NameError",
     "evalue": "name 'Print' is not defined",
     "output_type": "error",
     "traceback": [
      "\u001b[0;31m---------------------------------------------------------------------------\u001b[0m",
      "\u001b[0;31mNameError\u001b[0m                                 Traceback (most recent call last)",
      "Cell \u001b[0;32mIn[5], line 1\u001b[0m\n\u001b[0;32m----> 1\u001b[0m \u001b[43mPrint\u001b[49m(\u001b[38;5;124m'\u001b[39m\u001b[38;5;124mhello there\u001b[39m\u001b[38;5;124m'\u001b[39m)\n",
      "\u001b[0;31mNameError\u001b[0m: name 'Print' is not defined"
     ]
    }
   ],
   "source": [
    "Print('hello there') # case sensitive"
   ]
  },
  {
   "attachments": {},
   "cell_type": "markdown",
   "id": "58960279",
   "metadata": {},
   "source": [
    "# 6 Comments"
   ]
  },
  {
   "cell_type": "code",
   "execution_count": 4,
   "id": "62899d14-f313-41b1-ae17-98f3da1a04dc",
   "metadata": {},
   "outputs": [
    {
     "name": "stdout",
     "output_type": "stream",
     "text": [
      "hello world\n",
      "hello world yay\n",
      "hello world\n"
     ]
    }
   ],
   "source": [
    "print('hello world')\n",
    "print('hello world yay') # hihihi\n",
    "print('hello world')"
   ]
  },
  {
   "attachments": {},
   "cell_type": "markdown",
   "id": "9525ee1b",
   "metadata": {},
   "source": [
    "# 8 = is not the same as =="
   ]
  },
  {
   "cell_type": "code",
   "execution_count": 8,
   "id": "8320985b-e0ea-4ef8-a945-49071022af88",
   "metadata": {},
   "outputs": [
    {
     "data": {
      "text/plain": [
       "True"
      ]
     },
     "execution_count": 8,
     "metadata": {},
     "output_type": "execute_result"
    }
   ],
   "source": [
    "name = 'Batman'\n",
    "name == 'Batman'"
   ]
  },
  {
   "cell_type": "code",
   "execution_count": 9,
   "id": "d943ad05-bbe2-4f02-a83b-c34d524ae767",
   "metadata": {},
   "outputs": [
    {
     "data": {
      "text/plain": [
       "False"
      ]
     },
     "execution_count": 9,
     "metadata": {},
     "output_type": "execute_result"
    }
   ],
   "source": [
    "name = 'batman'\n",
    "name == 'Batman'"
   ]
  },
  {
   "cell_type": "code",
   "execution_count": 10,
   "id": "fd915fa8-50c8-401c-9adf-e42824c176ef",
   "metadata": {},
   "outputs": [
    {
     "data": {
      "text/plain": [
       "False"
      ]
     },
     "execution_count": 10,
     "metadata": {},
     "output_type": "execute_result"
    }
   ],
   "source": [
    "name = 'Catwoman'\n",
    "name == 'Batman'"
   ]
  },
  {
   "attachments": {},
   "cell_type": "markdown",
   "id": "7f647f1c",
   "metadata": {},
   "source": [
    "# 10 Use if to make decisions"
   ]
  },
  {
   "cell_type": "code",
   "execution_count": 12,
   "id": "7d7469e4-92c3-4040-bfef-da9d7a7681cc",
   "metadata": {},
   "outputs": [
    {
     "name": "stdout",
     "output_type": "stream",
     "text": [
      "hello Catwoman!\n"
     ]
    }
   ],
   "source": [
    "name = 'Catwoman'\n",
    "if name == 'Catwoman':\n",
    "    print('hello Catwoman!')\n",
    "else: \n",
    "    print('Hell no!')"
   ]
  },
  {
   "cell_type": "code",
   "execution_count": 14,
   "id": "851971e1-b6a9-4cf9-b5ee-fcbdf77233be",
   "metadata": {},
   "outputs": [
    {
     "name": "stdout",
     "output_type": "stream",
     "text": [
      "HI YA!\n",
      "HI YA!\n"
     ]
    }
   ],
   "source": [
    "name = 'Catwoman'\n",
    "if name == 'Catwoman':\n",
    "    print('HI YA!') # THINGS YOU DO WHEN IT IS TRUE\n",
    "    print('HI YA!')\n",
    "else:\n",
    "    print('HELL NO!') # THINGS YOU DO WHEN IT IS FALSE"
   ]
  },
  {
   "cell_type": "code",
   "execution_count": 15,
   "id": "92991010-1996-464e-8a33-3be8eb1abd56",
   "metadata": {},
   "outputs": [
    {
     "name": "stdout",
     "output_type": "stream",
     "text": [
      "HELL NO!\n"
     ]
    }
   ],
   "source": [
    "name = 'CatwomanN'\n",
    "if name == 'Catwoman':\n",
    "    print('HI YA!') # THINGS YOU DO WHEN IT IS TRUE\n",
    "    print('HI YA!')\n",
    "else:\n",
    "    print('HELL NO!') # THINGS YOU DO WHEN IT IS FALSE"
   ]
  },
  {
   "attachments": {},
   "cell_type": "markdown",
   "id": "08577049",
   "metadata": {},
   "source": [
    "# 12 Indentations (spaces) are sooo IMPORTANT!"
   ]
  },
  {
   "cell_type": "code",
   "execution_count": 17,
   "id": "949fea0b-1781-463c-994f-ca5f16a0f59e",
   "metadata": {},
   "outputs": [
    {
     "ename": "IndentationError",
     "evalue": "unexpected indent (1537435392.py, line 2)",
     "output_type": "error",
     "traceback": [
      "\u001b[0;36m  Cell \u001b[0;32mIn[17], line 2\u001b[0;36m\u001b[0m\n\u001b[0;31m    print(x)\u001b[0m\n\u001b[0m    ^\u001b[0m\n\u001b[0;31mIndentationError\u001b[0m\u001b[0;31m:\u001b[0m unexpected indent\n"
     ]
    }
   ],
   "source": [
    "x = 10\n",
    " print(x)"
   ]
  },
  {
   "cell_type": "code",
   "execution_count": 18,
   "id": "58f788b7-8902-42d3-b65d-e5e93cfa440a",
   "metadata": {},
   "outputs": [
    {
     "name": "stdout",
     "output_type": "stream",
     "text": [
      "10\n"
     ]
    }
   ],
   "source": [
    "    x = 10\n",
    "    print(x)"
   ]
  },
  {
   "cell_type": "code",
   "execution_count": 20,
   "id": "88ec5751-46b9-4f8e-a419-2275f86f4251",
   "metadata": {},
   "outputs": [
    {
     "name": "stdout",
     "output_type": "stream",
     "text": [
      "11\n"
     ]
    }
   ],
   "source": [
    "x = 11\n",
    "print(x)"
   ]
  },
  {
   "attachments": {},
   "cell_type": "markdown",
   "id": "412f12d5",
   "metadata": {},
   "source": [
    "# 14 ‘age’ is English, age is a variable."
   ]
  },
  {
   "cell_type": "code",
   "execution_count": 34,
   "id": "ec95d08b-0227-4ba0-8d4d-4e1886149141",
   "metadata": {},
   "outputs": [
    {
     "name": "stdout",
     "output_type": "stream",
     "text": [
      "23\n",
      "age\n"
     ]
    }
   ],
   "source": [
    "age = 23\n",
    "print(age)       # Print the value of the variable age\n",
    "print(\"age\")     # Print the English word 'age'"
   ]
  },
  {
   "cell_type": "code",
   "execution_count": 35,
   "id": "131a50e0-724c-4412-acfa-552410dcd77e",
   "metadata": {},
   "outputs": [
    {
     "name": "stdout",
     "output_type": "stream",
     "text": [
      "age 23\n",
      "age\n"
     ]
    }
   ],
   "source": [
    "age = 23\n",
    "print('age', age)       # Print the value of the variable age\n",
    "print(\"age\")     # Print the English word 'age'"
   ]
  },
  {
   "cell_type": "code",
   "execution_count": 33,
   "id": "275c2102-af73-4504-870a-dee2f2efc650",
   "metadata": {},
   "outputs": [
    {
     "name": "stdout",
     "output_type": "stream",
     "text": [
      "age 23\n",
      "age\n"
     ]
    }
   ],
   "source": [
    "x = 23\n",
    "print('age', age)       # Print the value of the variable age\n",
    "print(\"age\")     # Print the English word 'age'"
   ]
  },
  {
   "cell_type": "code",
   "execution_count": 24,
   "id": "00a440e0-9250-4896-a73b-efbc17bbfb4f",
   "metadata": {},
   "outputs": [
    {
     "name": "stdout",
     "output_type": "stream",
     "text": [
      "23 is old\n"
     ]
    }
   ],
   "source": [
    "print(\"23 is old\")"
   ]
  },
  {
   "attachments": {},
   "cell_type": "markdown",
   "id": "47713fde",
   "metadata": {},
   "source": [
    "# 15 Brackets"
   ]
  },
  {
   "cell_type": "code",
   "execution_count": 46,
   "id": "86c5e85e-b7d6-41d2-837c-2f85699e9e35",
   "metadata": {},
   "outputs": [
    {
     "name": "stdout",
     "output_type": "stream",
     "text": [
      "HI THERE\n"
     ]
    }
   ],
   "source": [
    "print('HI THERE') # In functions"
   ]
  },
  {
   "cell_type": "code",
   "execution_count": 41,
   "id": "b12b7900-463e-4c80-9ecb-b1ebfb6a798e",
   "metadata": {},
   "outputs": [
    {
     "data": {
      "text/plain": [
       "610"
      ]
     },
     "execution_count": 41,
     "metadata": {},
     "output_type": "execute_result"
    }
   ],
   "source": [
    "(1+4)*122 # For Math"
   ]
  },
  {
   "cell_type": "code",
   "execution_count": 49,
   "id": "5549cfa1-b0ef-48a6-b515-b0d409c7bc39",
   "metadata": {},
   "outputs": [
    {
     "data": {
      "text/plain": [
       "6.666666666666667"
      ]
     },
     "execution_count": 49,
     "metadata": {},
     "output_type": "execute_result"
    }
   ],
   "source": [
    "((3+2)*4)/3 # only use () for math"
   ]
  },
  {
   "cell_type": "code",
   "execution_count": 42,
   "id": "a783ece6-c390-4c29-abe4-2b103c57b677",
   "metadata": {},
   "outputs": [],
   "source": [
    "py_list = [1, 2, 3, 4, 5]   # A 1D list\n",
    "\n",
    "py_list_2 = [               # A 2D list\n",
    "                [1, \"A\"],      \n",
    "                [2, \"B\"],\n",
    "                [3, \"C\"],\n",
    "                [4, \"D\"],\n",
    "                [5, \"E\"]\n",
    "            ]"
   ]
  },
  {
   "cell_type": "code",
   "execution_count": 66,
   "id": "c77ff7a8-3c28-4151-8391-9d3ea11499b5",
   "metadata": {},
   "outputs": [
    {
     "name": "stdout",
     "output_type": "stream",
     "text": [
      "No idea\n"
     ]
    }
   ],
   "source": [
    "personal_info = {\n",
    "    'Name': 'Catwoman',\n",
    "    'Real Name': 'No idea', # rmb to include comma\n",
    "    'Age': '18?'\n",
    "}\n",
    "print(personal_info['Real Name'])"
   ]
  },
  {
   "attachments": {},
   "cell_type": "markdown",
   "id": "8ac2f624",
   "metadata": {},
   "source": [
    "# 16 Giving Python superpowers with Packages"
   ]
  },
  {
   "attachments": {},
   "cell_type": "markdown",
   "id": "5acbddd0",
   "metadata": {},
   "source": [
    "## 16.2 Importing the math package"
   ]
  },
  {
   "cell_type": "code",
   "execution_count": 61,
   "id": "719ec61a-d299-4e1e-8684-79408ed80ae5",
   "metadata": {},
   "outputs": [
    {
     "data": {
      "text/plain": [
       "2.0"
      ]
     },
     "execution_count": 61,
     "metadata": {},
     "output_type": "execute_result"
    }
   ],
   "source": [
    "import math # import math functions to solve\n",
    "math.sqrt(4)"
   ]
  },
  {
   "attachments": {},
   "cell_type": "markdown",
   "id": "55dcb80e",
   "metadata": {},
   "source": [
    "## 16.3 Importing the numpy package"
   ]
  },
  {
   "cell_type": "code",
   "execution_count": 65,
   "id": "a923ac5c-c117-49a6-ab2f-58d276e9a5dd",
   "metadata": {},
   "outputs": [
    {
     "data": {
      "text/plain": [
       "array([2., 3., 4., 5.])"
      ]
     },
     "execution_count": 65,
     "metadata": {},
     "output_type": "execute_result"
    }
   ],
   "source": [
    "import numpy # able to solve a list of square roots\n",
    "numpy.sqrt([4,9,16,25])"
   ]
  },
  {
   "cell_type": "code",
   "execution_count": 69,
   "id": "445a5bc2-987d-4e17-aa0a-dea6e2cf27c2",
   "metadata": {},
   "outputs": [
    {
     "data": {
      "text/plain": [
       "array([2., 3., 4., 5.])"
      ]
     },
     "execution_count": 69,
     "metadata": {},
     "output_type": "execute_result"
    }
   ],
   "source": [
    "import numpy as np # only need to import once, move to top, rerun if kernel is restarted\n",
    "np.sqrt([4,9,16,25])"
   ]
  },
  {
   "attachments": {},
   "cell_type": "markdown",
   "id": "3d054292",
   "metadata": {},
   "source": [
    "## The dot(.)"
   ]
  },
  {
   "cell_type": "code",
   "execution_count": 71,
   "id": "b7835d04-d3ed-419a-9e73-2cce56d0e519",
   "metadata": {},
   "outputs": [
    {
     "data": {
      "text/plain": [
       "2.0"
      ]
     },
     "execution_count": 71,
     "metadata": {},
     "output_type": "execute_result"
    }
   ],
   "source": [
    "math.sqrt(4) # functions\n",
    "np.sqrt(4) # indicates ownership"
   ]
  },
  {
   "cell_type": "code",
   "execution_count": 75,
   "id": "b976e81d-51da-47dc-9faa-97b8cd356137",
   "metadata": {},
   "outputs": [
    {
     "data": {
      "text/plain": [
       "'APPLE'"
      ]
     },
     "execution_count": 75,
     "metadata": {},
     "output_type": "execute_result"
    }
   ],
   "source": [
    "'apple'.upper() # apple is upper case"
   ]
  },
  {
   "cell_type": "code",
   "execution_count": 76,
   "id": "71d737a5-8922-49ae-a0e5-ea3f2bb3e391",
   "metadata": {},
   "outputs": [
    {
     "data": {
      "text/plain": [
       "'Apple'"
      ]
     },
     "execution_count": 76,
     "metadata": {},
     "output_type": "execute_result"
    }
   ],
   "source": [
    "'apple'.title()"
   ]
  },
  {
   "cell_type": "code",
   "execution_count": 73,
   "id": "114ba7de-a38f-42f3-b99d-2edc42624628",
   "metadata": {},
   "outputs": [
    {
     "data": {
      "text/plain": [
       "['Apple', 'Mango', 'Smoothie']"
      ]
     },
     "execution_count": 73,
     "metadata": {},
     "output_type": "execute_result"
    }
   ],
   "source": [
    "'Apple Mango Smoothie'.split()"
   ]
  },
  {
   "cell_type": "code",
   "execution_count": 80,
   "id": "fddf24ac-4c9e-4ab5-a285-1e09dda663ac",
   "metadata": {},
   "outputs": [
    {
     "data": {
      "text/plain": [
       "10.0"
      ]
     },
     "execution_count": 80,
     "metadata": {},
     "output_type": "execute_result"
    }
   ],
   "source": [
    "x = 1j+10 # extracting properties, attributes \n",
    "x.real"
   ]
  },
  {
   "cell_type": "code",
   "execution_count": 79,
   "id": "407077bb-0626-43a4-977f-29249c41a07c",
   "metadata": {},
   "outputs": [
    {
     "data": {
      "text/plain": [
       "1.0"
      ]
     },
     "execution_count": 79,
     "metadata": {},
     "output_type": "execute_result"
    }
   ],
   "source": [
    "x.imag"
   ]
  },
  {
   "cell_type": "code",
   "execution_count": 96,
   "id": "bdb21504-37c2-43a8-ac26-edaa572f9405",
   "metadata": {},
   "outputs": [
    {
     "data": {
      "text/plain": [
       "11"
      ]
     },
     "execution_count": 96,
     "metadata": {},
     "output_type": "execute_result"
    }
   ],
   "source": [
    "x = 1+10\n",
    "x.real"
   ]
  },
  {
   "cell_type": "code",
   "execution_count": 94,
   "id": "f72df0ac-d0c3-48b7-a27d-113542b80d27",
   "metadata": {},
   "outputs": [
    {
     "data": {
      "text/plain": [
       "0"
      ]
     },
     "execution_count": 94,
     "metadata": {},
     "output_type": "execute_result"
    }
   ],
   "source": [
    "x.imag"
   ]
  }
 ],
 "metadata": {
  "kernelspec": {
   "display_name": "Python 3 (ipykernel)",
   "language": "python",
   "name": "python3"
  },
  "language_info": {
   "codemirror_mode": {
    "name": "ipython",
    "version": 3
   },
   "file_extension": ".py",
   "mimetype": "text/x-python",
   "name": "python",
   "nbconvert_exporter": "python",
   "pygments_lexer": "ipython3",
   "version": "3.11.7"
  },
  "toc": {
   "base_numbering": 1,
   "nav_menu": {},
   "number_sections": true,
   "sideBar": true,
   "skip_h1_title": false,
   "title_cell": "Table of Contents",
   "title_sidebar": "Contents",
   "toc_cell": false,
   "toc_position": {},
   "toc_section_display": true,
   "toc_window_display": false
  },
  "vscode": {
   "interpreter": {
    "hash": "31f2aee4e71d21fbe5cf8b01ff0e069b9275f58929596ceb00d14d90e3e16cd6"
   }
  }
 },
 "nbformat": 4,
 "nbformat_minor": 5
}
