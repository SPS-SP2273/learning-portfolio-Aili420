{
 "cells": [
  {
   "attachments": {},
   "cell_type": "markdown",
   "id": "123456",
   "metadata": {},
   "source": [
    "<div style=\"text-align:left;font-size:2em\"><span style=\"font-weight:bolder;font-size:1.25em\">SP2273 | Learning Portfolio</span><br><br><span style=\"font-weight:bold;color:darkred\">Fundamentals (Good)</span></div>"
   ]
  },
  {
   "attachments": {},
   "cell_type": "markdown",
   "id": "dcc209b1",
   "metadata": {},
   "source": [
    "# 1 There is more to if"
   ]
  },
  {
   "cell_type": "code",
   "execution_count": 2,
   "id": "b0878991-b23a-411b-8150-0dd8278f3b48",
   "metadata": {},
   "outputs": [
    {
     "name": "stdout",
     "output_type": "stream",
     "text": [
      "Hello Batman!\n"
     ]
    }
   ],
   "source": [
    "name = 'Batman'\n",
    "\n",
    "if name == 'Batman':\n",
    "    print('Hello Batman!')\n",
    "elif name == 'Robin':\n",
    "    print('Hello Sidekick!')\n",
    "elif name == 'Aquaman':\n",
    "    print('Hello Aquaman')\n",
    "elif name == 'Catwoman':\n",
    "    print('Catwoman')\n",
    "else:\n",
    "    print('Hello World!')"
   ]
  },
  {
   "cell_type": "code",
   "execution_count": 3,
   "id": "9dd1107f-1dbe-40c9-91b8-a40779e502e7",
   "metadata": {},
   "outputs": [
    {
     "name": "stdout",
     "output_type": "stream",
     "text": [
      "Hello World!\n"
     ]
    }
   ],
   "source": [
    "name = 'Iron man'\n",
    "\n",
    "if name == 'Batman':\n",
    "    print('Hello Batman!')\n",
    "elif name == 'Robin':\n",
    "    print('Hello Sidekick!')\n",
    "elif name == 'Aquaman':\n",
    "    print('Hello Aquaman')\n",
    "elif name == 'Catwoman':\n",
    "    print('Catwoman')\n",
    "else:\n",
    "    print('Hello World!')"
   ]
  },
  {
   "cell_type": "code",
   "execution_count": 5,
   "id": "9c121e64-ae83-4f7e-b282-0eb1cac76a05",
   "metadata": {},
   "outputs": [],
   "source": [
    "name = 'Iron man'\n",
    "\n",
    "if name == 'Batman':\n",
    "    print('Hello Batman!')\n",
    "elif name == 'Robin':\n",
    "    print('Hello Sidekick!')\n",
    "elif name == 'Aquaman':\n",
    "    print('Hello Aquaman')\n",
    "elif name == 'Catwoman':\n",
    "    print('Catwoman')"
   ]
  },
  {
   "attachments": {},
   "cell_type": "markdown",
   "id": "c237d534",
   "metadata": {},
   "source": [
    "# 2 Asking questions"
   ]
  },
  {
   "cell_type": "code",
   "execution_count": 6,
   "id": "302371ec-32e7-424b-b598-530c198a456b",
   "metadata": {},
   "outputs": [],
   "source": [
    "fruits = ['apple', 'banana', 'pineapple', 'jackfruit']\n",
    "vegetables = ['celery', 'potato', 'broccoli', 'kale']"
   ]
  },
  {
   "cell_type": "code",
   "execution_count": 7,
   "id": "0c942e0f-19dc-4f02-879c-39f9ff5c079d",
   "metadata": {},
   "outputs": [
    {
     "data": {
      "text/plain": [
       "True"
      ]
     },
     "execution_count": 7,
     "metadata": {},
     "output_type": "execute_result"
    }
   ],
   "source": [
    "'apple' in fruits"
   ]
  },
  {
   "cell_type": "code",
   "execution_count": 8,
   "id": "124a1cbe-d865-4436-8871-2a2900965938",
   "metadata": {},
   "outputs": [
    {
     "data": {
      "text/plain": [
       "False"
      ]
     },
     "execution_count": 8,
     "metadata": {},
     "output_type": "execute_result"
    }
   ],
   "source": [
    "'celery' in fruits"
   ]
  },
  {
   "cell_type": "code",
   "execution_count": 9,
   "id": "fd09f110-887f-4f8a-b4a4-862e380b9407",
   "metadata": {},
   "outputs": [
    {
     "data": {
      "text/plain": [
       "True"
      ]
     },
     "execution_count": 9,
     "metadata": {},
     "output_type": "execute_result"
    }
   ],
   "source": [
    "'cherry' not in fruits"
   ]
  },
  {
   "cell_type": "code",
   "execution_count": 10,
   "id": "2baacafb-a111-49af-957f-dabb2c6ab343",
   "metadata": {},
   "outputs": [
    {
     "data": {
      "text/plain": [
       "False"
      ]
     },
     "execution_count": 10,
     "metadata": {},
     "output_type": "execute_result"
    }
   ],
   "source": [
    "'brocoli' in vegetables and 'banana' in fruits\n",
    "'peach' in fruits and 'kale' not in vegetables"
   ]
  },
  {
   "cell_type": "code",
   "execution_count": 12,
   "id": "dfa36335-9d0a-4932-97d1-6a9f5c0485fc",
   "metadata": {},
   "outputs": [
    {
     "data": {
      "text/plain": [
       "False"
      ]
     },
     "execution_count": 12,
     "metadata": {},
     "output_type": "execute_result"
    }
   ],
   "source": [
    "'brocoli' in vegetables or 'banana' in fruits\n",
    "'peach' in fruits or 'kale' not in vegetables"
   ]
  },
  {
   "cell_type": "code",
   "execution_count": 11,
   "id": "24219b4d-1946-4f1b-aa34-9c26c96a6a43",
   "metadata": {},
   "outputs": [
    {
     "data": {
      "text/plain": [
       "True"
      ]
     },
     "execution_count": 11,
     "metadata": {},
     "output_type": "execute_result"
    }
   ],
   "source": [
    "'broc' in 'brocoli'"
   ]
  },
  {
   "attachments": {},
   "cell_type": "markdown",
   "id": "051481fa",
   "metadata": {},
   "source": [
    "## 3.1 Asking Math questions"
   ]
  },
  {
   "cell_type": "code",
   "execution_count": 13,
   "id": "420ac2ae-78d2-48b1-a70e-31762af02c16",
   "metadata": {},
   "outputs": [
    {
     "data": {
      "text/plain": [
       "True"
      ]
     },
     "execution_count": 13,
     "metadata": {},
     "output_type": "execute_result"
    }
   ],
   "source": [
    "10>=3"
   ]
  },
  {
   "cell_type": "code",
   "execution_count": 16,
   "id": "c2728326-9834-4b15-8bca-fa7346aa2ced",
   "metadata": {},
   "outputs": [
    {
     "data": {
      "text/plain": [
       "False"
      ]
     },
     "execution_count": 16,
     "metadata": {},
     "output_type": "execute_result"
    }
   ],
   "source": [
    "x=3\n",
    "x>4"
   ]
  },
  {
   "cell_type": "code",
   "execution_count": 19,
   "id": "7ed9249e-f821-459b-97be-0ca6ba4a4d12",
   "metadata": {},
   "outputs": [
    {
     "data": {
      "text/plain": [
       "False"
      ]
     },
     "execution_count": 19,
     "metadata": {},
     "output_type": "execute_result"
    }
   ],
   "source": [
    "(x>5) and (x<15) # x = 3 above\n",
    "5 < x <15"
   ]
  },
  {
   "attachments": {},
   "cell_type": "markdown",
   "id": "279c2737",
   "metadata": {},
   "source": [
    "# 4 Python stores information in different formats or types"
   ]
  },
  {
   "cell_type": "code",
   "execution_count": 22,
   "id": "5a35f311-f11a-4f8e-bd73-5982224e7801",
   "metadata": {},
   "outputs": [
    {
     "name": "stdout",
     "output_type": "stream",
     "text": [
      "12 <class 'int'>\n"
     ]
    }
   ],
   "source": [
    "x = int(12.0033)\n",
    "print(x, type(x))"
   ]
  },
  {
   "cell_type": "code",
   "execution_count": 24,
   "id": "2c818bef-95ac-44aa-bc4c-a2946b18ce9c",
   "metadata": {},
   "outputs": [
    {
     "name": "stdout",
     "output_type": "stream",
     "text": [
      "1\n"
     ]
    }
   ],
   "source": [
    "x = int(1.234)\n",
    "print(x)"
   ]
  },
  {
   "cell_type": "code",
   "execution_count": 25,
   "id": "98f9eaa9-c9db-4658-a148-5329300aa3c3",
   "metadata": {},
   "outputs": [
    {
     "name": "stdout",
     "output_type": "stream",
     "text": [
      "1.234 <class 'str'>\n"
     ]
    }
   ],
   "source": [
    "x = str(1.234) # x is a string\n",
    "print(x, type(x))"
   ]
  },
  {
   "cell_type": "code",
   "execution_count": 41,
   "id": "6af8aabd-e4a0-42d3-bb8c-6a02aad28002",
   "metadata": {},
   "outputs": [
    {
     "name": "stdout",
     "output_type": "stream",
     "text": [
      "1.234 <class 'float'>\n"
     ]
    }
   ],
   "source": [
    "x = float(x)      \n",
    "print(x, type(x))  # x is now a decimal number"
   ]
  },
  {
   "attachments": {},
   "cell_type": "markdown",
   "id": "56a4b87e",
   "metadata": {},
   "source": [
    "# 5 Never compare floats directly"
   ]
  },
  {
   "attachments": {},
   "cell_type": "markdown",
   "id": "9cb49685",
   "metadata": {},
   "source": [
    "## 5.1 The Problem"
   ]
  },
  {
   "cell_type": "code",
   "execution_count": 26,
   "id": "8732b05a-0802-467b-95ea-641ab8d7fa59",
   "metadata": {},
   "outputs": [
    {
     "data": {
      "text/plain": [
       "False"
      ]
     },
     "execution_count": 26,
     "metadata": {},
     "output_type": "execute_result"
    }
   ],
   "source": [
    "a = 0.1 # cannot compare decimals\n",
    "a3 = 0.3\n",
    "a * 3 == a3"
   ]
  },
  {
   "cell_type": "code",
   "execution_count": 40,
   "id": "55b7512a-11ab-42fe-9fa8-cc8428f1a9ee",
   "metadata": {},
   "outputs": [
    {
     "data": {
      "text/plain": [
       "'0.29999999999999999'"
      ]
     },
     "execution_count": 40,
     "metadata": {},
     "output_type": "execute_result"
    }
   ],
   "source": [
    "f'{0.3:.17f}' # print 0.3 to 19 decimals"
   ]
  },
  {
   "attachments": {},
   "cell_type": "markdown",
   "id": "34573aeb",
   "metadata": {},
   "source": [
    "## 5.2 A solution"
   ]
  },
  {
   "cell_type": "code",
   "execution_count": 32,
   "id": "12100755-adf5-425b-8d53-f1b0313262e1",
   "metadata": {},
   "outputs": [
    {
     "data": {
      "text/plain": [
       "5.551115123125783e-17"
      ]
     },
     "execution_count": 32,
     "metadata": {},
     "output_type": "execute_result"
    }
   ],
   "source": [
    "(a*3 -a3) # as close to 0 as possible"
   ]
  },
  {
   "cell_type": "code",
   "execution_count": 34,
   "id": "20d6e9d2-378c-4d90-86a8-fc2a412d96f3",
   "metadata": {},
   "outputs": [
    {
     "data": {
      "text/plain": [
       "True"
      ]
     },
     "execution_count": 34,
     "metadata": {},
     "output_type": "execute_result"
    }
   ],
   "source": [
    "(a*3 -a3) < 1E-10"
   ]
  },
  {
   "cell_type": "code",
   "execution_count": 35,
   "id": "688a6a4a-257e-4a82-afff-b2b7b267b112",
   "metadata": {},
   "outputs": [
    {
     "data": {
      "text/plain": [
       "True"
      ]
     },
     "execution_count": 35,
     "metadata": {},
     "output_type": "execute_result"
    }
   ],
   "source": [
    "abs(a*3 -a3) < 1E-10"
   ]
  },
  {
   "cell_type": "code",
   "execution_count": 39,
   "id": "b5dde540-c60c-4a13-b5d9-5c1f66eb3fe0",
   "metadata": {},
   "outputs": [
    {
     "data": {
      "text/plain": [
       "True"
      ]
     },
     "execution_count": 39,
     "metadata": {},
     "output_type": "execute_result"
    }
   ],
   "source": [
    "import numpy as np\n",
    "np.isclose(a*3, a3) # see if the two is close to being the same"
   ]
  },
  {
   "attachments": {},
   "cell_type": "markdown",
   "id": "ec35756b",
   "metadata": {},
   "source": [
    "# 6 Combining English and variables"
   ]
  },
  {
   "cell_type": "code",
   "execution_count": 42,
   "id": "48316a7b-a472-4732-a45d-2e6987d5225e",
   "metadata": {},
   "outputs": [
    {
     "name": "stdout",
     "output_type": "stream",
     "text": [
      "hello {name}!\n"
     ]
    }
   ],
   "source": [
    "name = 'Batman'\n",
    "print('hello {name}!')"
   ]
  },
  {
   "cell_type": "code",
   "execution_count": 44,
   "id": "225e6bc8-1a15-4197-88a8-8e50f890e5f0",
   "metadata": {},
   "outputs": [
    {
     "name": "stdout",
     "output_type": "stream",
     "text": [
      "hello Batman!\n"
     ]
    }
   ],
   "source": [
    "name = 'Batman' # place variable into str\n",
    "print(f'hello {name}!')"
   ]
  },
  {
   "cell_type": "code",
   "execution_count": 48,
   "id": "af0225a2-1fa2-48b6-a9a5-a1f4b2e2c182",
   "metadata": {},
   "outputs": [
    {
     "name": "stdout",
     "output_type": "stream",
     "text": [
      "hello BATMAN!\n"
     ]
    }
   ],
   "source": [
    "name = 'Batman'\n",
    "print(f'hello {name.upper()}!')"
   ]
  },
  {
   "cell_type": "code",
   "execution_count": 52,
   "id": "ff412791-1e4a-49e4-a3cb-937cfb813eee",
   "metadata": {},
   "outputs": [
    {
     "name": "stdout",
     "output_type": "stream",
     "text": [
      "The value of 10 squared is 100!\n"
     ]
    }
   ],
   "source": [
    "x = 10\n",
    "print(f'The value of {x} squared is {x**2}!')"
   ]
  },
  {
   "cell_type": "code",
   "execution_count": 54,
   "id": "0d68e9d5-427e-4bf3-95f9-f196c3e3a657",
   "metadata": {},
   "outputs": [
    {
     "name": "stdout",
     "output_type": "stream",
     "text": [
      "I am hungry!\n"
     ]
    }
   ],
   "source": [
    "text = 'I am hungry!' #aligned left\n",
    "print(f'{text}')"
   ]
  },
  {
   "cell_type": "code",
   "execution_count": 60,
   "id": "fc0cf9fc-0ded-4939-9749-509ef2c3febc",
   "metadata": {},
   "outputs": [
    {
     "name": "stdout",
     "output_type": "stream",
     "text": [
      "                  I am hungry!\n"
     ]
    }
   ],
   "source": [
    "print(f'{text:>30}') #aligned right"
   ]
  },
  {
   "cell_type": "code",
   "execution_count": 61,
   "id": "ee36c54b-4639-45f7-8a07-df98262b1fb9",
   "metadata": {},
   "outputs": [
    {
     "name": "stdout",
     "output_type": "stream",
     "text": [
      "         I am hungry!         \n"
     ]
    }
   ],
   "source": [
    "print(f'{text:^30}') #aligned centre"
   ]
  },
  {
   "cell_type": "code",
   "execution_count": 62,
   "id": "800bdc6e-b154-4f43-a2f1-17ec19aabc03",
   "metadata": {},
   "outputs": [
    {
     "name": "stdout",
     "output_type": "stream",
     "text": [
      "                        I am hungry!                        \n"
     ]
    }
   ],
   "source": [
    "print(f'{text:^60}') #aligned centre"
   ]
  },
  {
   "cell_type": "code",
   "execution_count": 63,
   "id": "e836c1ec-d979-4700-a9c1-70a2a2d130f4",
   "metadata": {},
   "outputs": [
    {
     "name": "stdout",
     "output_type": "stream",
     "text": [
      "                                                I am hungry!\n"
     ]
    }
   ],
   "source": [
    "print(f'{text:>60}') #aligned right"
   ]
  },
  {
   "attachments": {},
   "cell_type": "markdown",
   "id": "0ccdf32d",
   "metadata": {},
   "source": [
    "## 6.1 Structure of f-strings"
   ]
  },
  {
   "cell_type": "code",
   "execution_count": 64,
   "id": "ea756f49-b062-416c-9229-32a72e5f1e87",
   "metadata": {},
   "outputs": [
    {
     "name": "stdout",
     "output_type": "stream",
     "text": [
      "The cube of pi to 6 decimal places is 31.006277\n"
     ]
    }
   ],
   "source": [
    "print(f'The cube of pi to 6 decimal places is {np.pi**3:.6f}')"
   ]
  },
  {
   "cell_type": "code",
   "execution_count": 71,
   "id": "10d85aeb-1805-4cda-9269-f249a018ba94",
   "metadata": {},
   "outputs": [
    {
     "name": "stdout",
     "output_type": "stream",
     "text": [
      "The cube of 2 to 4 decimal places is 8.0000\n"
     ]
    }
   ],
   "source": [
    "print(f'The cube of 2 to 4 decimal places is {2**3:.4f}')"
   ]
  },
  {
   "cell_type": "code",
   "execution_count": 69,
   "id": "f09beb7f-0d21-4c3c-a8c6-3f746d334ce4",
   "metadata": {},
   "outputs": [
    {
     "name": "stdout",
     "output_type": "stream",
     "text": [
      "The cube of pi to 6 decimal places is 3.100628e+01\n"
     ]
    }
   ],
   "source": [
    "print(f'The cube of pi to 6 decimal places is {np.pi**3:.6e}')"
   ]
  },
  {
   "attachments": {},
   "cell_type": "markdown",
   "id": "33731c7c",
   "metadata": {},
   "source": [
    "# 7 Escape sequences"
   ]
  },
  {
   "cell_type": "code",
   "execution_count": 72,
   "id": "9b3e6917-06dc-4815-8939-ca4a3a945c59",
   "metadata": {},
   "outputs": [
    {
     "name": "stdout",
     "output_type": "stream",
     "text": [
      "Line 1\n",
      "\tLine 2\n",
      "\t\tLine 3\n"
     ]
    }
   ],
   "source": [
    "print('Line 1\\n\\tLine 2\\n\\t\\tLine 3')"
   ]
  },
  {
   "cell_type": "code",
   "execution_count": 73,
   "id": "baebbe2c-af23-4434-a2c8-c7eb8d2f82e3",
   "metadata": {},
   "outputs": [
    {
     "name": "stdout",
     "output_type": "stream",
     "text": [
      "You're twenty years old.\n"
     ]
    }
   ],
   "source": [
    "print('You\\'re twenty years old.')"
   ]
  },
  {
   "cell_type": "code",
   "execution_count": 75,
   "id": "5149bee5-b951-40dd-bb3b-8aa449b9f01f",
   "metadata": {},
   "outputs": [
    {
     "name": "stdout",
     "output_type": "stream",
     "text": [
      "A\\B\\C\n"
     ]
    }
   ],
   "source": [
    "print('A\\B\\C') #so can?"
   ]
  },
  {
   "cell_type": "code",
   "execution_count": 78,
   "id": "514399f1-240c-4f1e-a888-18a47721d0c6",
   "metadata": {},
   "outputs": [
    {
     "name": "stdout",
     "output_type": "stream",
     "text": [
      "A\n",
      "B\n",
      "C\n"
     ]
    }
   ],
   "source": [
    "A = 'ape' # how come it doesnt define ABC?\n",
    "B = 'banana'\n",
    "C = 'cinnamon'\n",
    "print('A\\nB\\nC')"
   ]
  },
  {
   "cell_type": "code",
   "execution_count": 82,
   "id": "42609fc3-d009-45c8-ab80-fa4877848874",
   "metadata": {},
   "outputs": [
    {
     "name": "stdout",
     "output_type": "stream",
     "text": [
      "ape\n",
      "banana\n",
      "cinnamon\n"
     ]
    }
   ],
   "source": [
    "A = 'ape' \n",
    "B = 'banana'\n",
    "C = 'cinnamon'\n",
    "print(f'{A}\\n{B}\\n{C}') # f string cannot include \\"
   ]
  },
  {
   "cell_type": "code",
   "execution_count": 79,
   "id": "99a7d41a-171b-4a58-80fe-9de8ddb4ce2e",
   "metadata": {},
   "outputs": [
    {
     "name": "stdout",
     "output_type": "stream",
     "text": [
      "A\tB\tC\n"
     ]
    }
   ],
   "source": [
    "print('A\\tB\\tC')"
   ]
  },
  {
   "cell_type": "code",
   "execution_count": 83,
   "id": "b8ea0302-f537-488f-a1af-7a9f239c0608",
   "metadata": {},
   "outputs": [
    {
     "name": "stdout",
     "output_type": "stream",
     "text": [
      "ape\tbanana\tcinnamon\n"
     ]
    }
   ],
   "source": [
    "print(f'{A}\\t{B}\\t{C}')"
   ]
  },
  {
   "attachments": {},
   "cell_type": "markdown",
   "id": "cce5feeb",
   "metadata": {},
   "source": [
    "# 8 Computers read = from Right to Left!"
   ]
  },
  {
   "cell_type": "code",
   "execution_count": 85,
   "id": "882ca32a-1c5a-4344-bbc2-84a26c35d1d5",
   "metadata": {},
   "outputs": [
    {
     "name": "stdout",
     "output_type": "stream",
     "text": [
      "42\n"
     ]
    }
   ],
   "source": [
    "x = 40\n",
    "y = x + 2\n",
    "print(y)"
   ]
  },
  {
   "cell_type": "code",
   "execution_count": 86,
   "id": "9abea204-bc34-48e0-9be7-e1dbb19f4571",
   "metadata": {},
   "outputs": [
    {
     "name": "stdout",
     "output_type": "stream",
     "text": [
      "42\n"
     ]
    }
   ],
   "source": [
    "y = 40\n",
    "y = y + 2\n",
    "print(y)"
   ]
  },
  {
   "cell_type": "code",
   "execution_count": 87,
   "id": "1aa109e7-40de-45b5-8517-255ff1bc9bfa",
   "metadata": {},
   "outputs": [
    {
     "data": {
      "text/plain": [
       "42"
      ]
     },
     "execution_count": 87,
     "metadata": {},
     "output_type": "execute_result"
    }
   ],
   "source": [
    "y = 40\n",
    "y += 2    # Same as y = y + 2\n",
    "y"
   ]
  },
  {
   "cell_type": "code",
   "execution_count": 91,
   "id": "4d232648-0e73-4abc-bac4-2eae1b00502f",
   "metadata": {},
   "outputs": [
    {
     "data": {
      "text/plain": [
       "80"
      ]
     },
     "execution_count": 91,
     "metadata": {},
     "output_type": "execute_result"
    }
   ],
   "source": [
    "y = 40\n",
    "y *= 2    # Same as y = y + 2\n",
    "y"
   ]
  },
  {
   "attachments": {},
   "cell_type": "markdown",
   "id": "8936d40a",
   "metadata": {},
   "source": [
    "# 9 Shorter and Cleaner Code"
   ]
  },
  {
   "attachments": {},
   "cell_type": "markdown",
   "id": "b2c30aaa",
   "metadata": {},
   "source": [
    "# 10 Python can be a prima-donna."
   ]
  },
  {
   "attachments": {},
   "cell_type": "markdown",
   "id": "bfb557be",
   "metadata": {},
   "source": [
    "# 11 Best Practices for Scientific Computing"
   ]
  },
  {
   "attachments": {},
   "cell_type": "markdown",
   "id": "f9db273f",
   "metadata": {},
   "source": [
    "# 12 Looking for help"
   ]
  },
  {
   "cell_type": "code",
   "execution_count": 92,
   "id": "8a641be5-1973-40b7-8b32-67cc5e7a97ae",
   "metadata": {},
   "outputs": [
    {
     "name": "stdout",
     "output_type": "stream",
     "text": [
      "Help on built-in function print in module builtins:\n",
      "\n",
      "print(*args, sep=' ', end='\\n', file=None, flush=False)\n",
      "    Prints the values to a stream, or to sys.stdout by default.\n",
      "    \n",
      "    sep\n",
      "      string inserted between values, default a space.\n",
      "    end\n",
      "      string appended after the last value, default a newline.\n",
      "    file\n",
      "      a file-like object (stream); defaults to the current sys.stdout.\n",
      "    flush\n",
      "      whether to forcibly flush the stream.\n",
      "\n"
     ]
    }
   ],
   "source": [
    "help(print)"
   ]
  }
 ],
 "metadata": {
  "kernelspec": {
   "display_name": "Python 3 (ipykernel)",
   "language": "python",
   "name": "python3"
  },
  "language_info": {
   "codemirror_mode": {
    "name": "ipython",
    "version": 3
   },
   "file_extension": ".py",
   "mimetype": "text/x-python",
   "name": "python",
   "nbconvert_exporter": "python",
   "pygments_lexer": "ipython3",
   "version": "3.11.7"
  },
  "toc": {
   "base_numbering": 1,
   "nav_menu": {},
   "number_sections": true,
   "sideBar": true,
   "skip_h1_title": false,
   "title_cell": "Table of Contents",
   "title_sidebar": "Contents",
   "toc_cell": false,
   "toc_position": {},
   "toc_section_display": true,
   "toc_window_display": false
  },
  "vscode": {
   "interpreter": {
    "hash": "31f2aee4e71d21fbe5cf8b01ff0e069b9275f58929596ceb00d14d90e3e16cd6"
   }
  }
 },
 "nbformat": 4,
 "nbformat_minor": 5
}
