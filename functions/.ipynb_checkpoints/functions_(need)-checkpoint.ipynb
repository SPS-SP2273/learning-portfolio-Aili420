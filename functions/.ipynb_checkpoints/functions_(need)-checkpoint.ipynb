{
 "cells": [
  {
   "attachments": {},
   "cell_type": "markdown",
   "id": "123456",
   "metadata": {},
   "source": [
    "<div style=\"text-align:left;font-size:2em\"><span style=\"font-weight:bolder;font-size:1.25em\">SP2273 | Learning Portfolio</span><br><br><span style=\"font-weight:bold;color:darkred\">Functions (Need)</span></div>"
   ]
  },
  {
   "attachments": {},
   "cell_type": "markdown",
   "id": "78527e4c",
   "metadata": {},
   "source": [
    "# What to expect in this chapter"
   ]
  },
  {
   "attachments": {},
   "cell_type": "markdown",
   "id": "88c1aa69",
   "metadata": {},
   "source": [
    "# 1 User-defined functions"
   ]
  },
  {
   "attachments": {},
   "cell_type": "markdown",
   "id": "cab828ce",
   "metadata": {},
   "source": [
    "## 1.1 Named Functions"
   ]
  },
  {
   "attachments": {},
   "cell_type": "markdown",
   "id": "fae920f6",
   "metadata": {},
   "source": [
    "### Named functions that return"
   ]
  },
  {
   "cell_type": "code",
   "execution_count": 17,
   "id": "a1e7925c-0936-4aab-ad84-2c94d4bde665",
   "metadata": {},
   "outputs": [],
   "source": [
    "def greeting(name): # name is argument\n",
    "    if name == 'Batman':\n",
    "        return 'Hello Batman! So, nice to meet you!'\n",
    "    else:\n",
    "        return f'Hello {name}!'"
   ]
  },
  {
   "cell_type": "code",
   "execution_count": 4,
   "id": "54c60c15-8d9f-4e1d-a68e-e01debc4858d",
   "metadata": {},
   "outputs": [
    {
     "data": {
      "text/plain": [
       "'Hello Batman! So, nice to meet you!'"
      ]
     },
     "execution_count": 4,
     "metadata": {},
     "output_type": "execute_result"
    }
   ],
   "source": [
    "greeting('Batman')"
   ]
  },
  {
   "cell_type": "code",
   "execution_count": 18,
   "id": "6bf5947e-d9d3-4c9e-b0b3-d5d8171b0971",
   "metadata": {},
   "outputs": [
    {
     "name": "stdout",
     "output_type": "stream",
     "text": [
      "Hello aili!\n"
     ]
    }
   ],
   "source": [
    "output = greeting('aili')\n",
    "print(output) \n",
    "# output is defined as Hello aili!\n",
    "# return in function allows output to be used again"
   ]
  },
  {
   "cell_type": "code",
   "execution_count": 15,
   "id": "9c4ebd72-cb38-4198-b53f-8bbf72495e15",
   "metadata": {},
   "outputs": [
    {
     "name": "stdout",
     "output_type": "stream",
     "text": [
      "Hello aili!\n",
      "None\n"
     ]
    }
   ],
   "source": [
    "def greeting_again(name):\n",
    "    if name == 'Batman':\n",
    "        print( 'Hello Batman! So, nice to meet you!') #return is replaced with print, function does not have to return\n",
    "    else:\n",
    "        print(f'Hello {name}!')\n",
    "        \n",
    "output = greeting_again('aili')\n",
    "print(output) # None = nothing, nothing is generated from function"
   ]
  },
  {
   "cell_type": "markdown",
   "id": "63277611-377d-47f8-b38c-711896c52f48",
   "metadata": {},
   "source": [
    "### how to name a function that returns"
   ]
  },
  {
   "cell_type": "code",
   "execution_count": 17,
   "id": "490328d8-4a25-4aca-8920-09cc9de71bfc",
   "metadata": {},
   "outputs": [],
   "source": [
    "def greeting(name): # name is argument\n",
    "    if name == 'Batman':\n",
    "        return 'Hello Batman! So, nice to meet you!'\n",
    "    else:\n",
    "        return f'Hello {name}!'"
   ]
  },
  {
   "cell_type": "code",
   "execution_count": 4,
   "id": "9027a3f7-4c8f-48df-abbc-dddf6b59aa0f",
   "metadata": {},
   "outputs": [
    {
     "data": {
      "text/plain": [
       "'Hello Batman! So, nice to meet you!'"
      ]
     },
     "execution_count": 4,
     "metadata": {},
     "output_type": "execute_result"
    }
   ],
   "source": [
    "greeting('Batman')"
   ]
  },
  {
   "cell_type": "code",
   "execution_count": 19,
   "id": "768540bd-1045-44a6-b9fa-b9ab7df64a81",
   "metadata": {},
   "outputs": [
    {
     "data": {
      "text/plain": [
       "'Hello hahah!'"
      ]
     },
     "execution_count": 19,
     "metadata": {},
     "output_type": "execute_result"
    }
   ],
   "source": [
    "greeting(name='hahah')"
   ]
  },
  {
   "cell_type": "markdown",
   "id": "355dc16d-9807-43bd-94a6-fae8d1f77d59",
   "metadata": {},
   "source": [
    "### Function: returning multiple values"
   ]
  },
  {
   "cell_type": "code",
   "execution_count": 23,
   "id": "b2d3e649-f994-430f-bfc0-b9736210e723",
   "metadata": {},
   "outputs": [
    {
     "data": {
      "text/plain": [
       "(130, 22, 66.2)"
      ]
     },
     "execution_count": 23,
     "metadata": {},
     "output_type": "execute_result"
    }
   ],
   "source": [
    "import numpy as np\n",
    "def basic_stats(numbers):\n",
    "    np_numbers = np.array(numbers)\n",
    "    my_min = np_numbers.min()\n",
    "    my_max = np_numbers.max()\n",
    "    my_mean = np_numbers.mean()\n",
    "    return my_max, my_min, my_mean # command\n",
    "\n",
    "basic_stats([22,34,46,99,130])"
   ]
  },
  {
   "cell_type": "code",
   "execution_count": 25,
   "id": "111e1e2c-1ed4-4e8d-8ed8-8eafc7f5ffd1",
   "metadata": {},
   "outputs": [
    {
     "data": {
      "text/plain": [
       "[130, 22, 66.2]"
      ]
     },
     "execution_count": 25,
     "metadata": {},
     "output_type": "execute_result"
    }
   ],
   "source": [
    "import numpy as np\n",
    "def basic_stats(numbers):\n",
    "    np_numbers = np.array(numbers)\n",
    "    my_min = np_numbers.min()\n",
    "    my_max = np_numbers.max()\n",
    "    my_mean = np_numbers.mean()\n",
    "    return [my_max, my_min, my_mean] # command\n",
    "\n",
    "basic_stats([22,34,46,99,130])"
   ]
  },
  {
   "cell_type": "code",
   "execution_count": 26,
   "id": "17e50b6b-de90-42f6-8e08-e5bc83a0c6e1",
   "metadata": {},
   "outputs": [],
   "source": [
    "list_min, list_max, list_mean = basic_stats([1, 2, 3, 4, 5])"
   ]
  },
  {
   "cell_type": "code",
   "execution_count": 27,
   "id": "e8e656a6-3f94-49c3-9410-9867f9a9d194",
   "metadata": {},
   "outputs": [
    {
     "name": "stdout",
     "output_type": "stream",
     "text": [
      "5,1,3.0\n"
     ]
    }
   ],
   "source": [
    "print(f'{list_min},{list_max},{list_mean}')"
   ]
  },
  {
   "cell_type": "code",
   "execution_count": 28,
   "id": "1f5a578d-8749-4791-ae39-efbcfdb2af3f",
   "metadata": {},
   "outputs": [
    {
     "name": "stdout",
     "output_type": "stream",
     "text": [
      "list_min=5,list_max=1,list_mean=3.0\n"
     ]
    }
   ],
   "source": [
    "print(f'{list_min=},{list_max=},{list_mean=}')"
   ]
  },
  {
   "attachments": {},
   "cell_type": "markdown",
   "id": "12da6fdd",
   "metadata": {},
   "source": [
    "### Named functions that don’t return"
   ]
  },
  {
   "attachments": {},
   "cell_type": "markdown",
   "id": "18bfec54",
   "metadata": {},
   "source": [
    "## 1.2 Anonymous functions"
   ]
  },
  {
   "cell_type": "code",
   "execution_count": 29,
   "id": "22086c45",
   "metadata": {},
   "outputs": [],
   "source": [
    "my_short_function = lambda name: f\"Hello {name}!\""
   ]
  },
  {
   "cell_type": "code",
   "execution_count": 30,
   "id": "c60f8692-0360-4620-a780-2d5bb670b306",
   "metadata": {},
   "outputs": [
    {
     "data": {
      "text/plain": [
       "'Hello aili!'"
      ]
     },
     "execution_count": 30,
     "metadata": {},
     "output_type": "execute_result"
    }
   ],
   "source": [
    "my_short_function('aili')"
   ]
  },
  {
   "cell_type": "code",
   "execution_count": 31,
   "id": "c831586e-4d94-42df-abcd-131e857f0ff5",
   "metadata": {},
   "outputs": [],
   "source": [
    "numbers=[[9, 0, -10],\n",
    "         [8, 1, -11],\n",
    "         [7, 2, -12],\n",
    "         [6, 3, -13],\n",
    "         [5, 4, -14],\n",
    "         [4, 5, -15],\n",
    "         [3, 6, -16],\n",
    "         [2, 7, -17],\n",
    "         [1, 8, -18],\n",
    "         [0, 9, -19]]"
   ]
  },
  {
   "cell_type": "code",
   "execution_count": 33,
   "id": "68171641-2623-44b3-a832-962b550f3a5c",
   "metadata": {},
   "outputs": [
    {
     "data": {
      "text/plain": [
       "[[0, 9, -19],\n",
       " [1, 8, -18],\n",
       " [2, 7, -17],\n",
       " [3, 6, -16],\n",
       " [4, 5, -15],\n",
       " [5, 4, -14],\n",
       " [6, 3, -13],\n",
       " [7, 2, -12],\n",
       " [8, 1, -11],\n",
       " [9, 0, -10]]"
      ]
     },
     "execution_count": 33,
     "metadata": {},
     "output_type": "execute_result"
    }
   ],
   "source": [
    "sorted(numbers) # sort based on first column with index 0"
   ]
  },
  {
   "cell_type": "code",
   "execution_count": 38,
   "id": "fbe0b89a-d574-46a6-82d8-4c2bd480431d",
   "metadata": {},
   "outputs": [
    {
     "data": {
      "text/plain": [
       "[[9, 0, -10],\n",
       " [8, 1, -11],\n",
       " [7, 2, -12],\n",
       " [6, 3, -13],\n",
       " [5, 4, -14],\n",
       " [4, 5, -15],\n",
       " [3, 6, -16],\n",
       " [2, 7, -17],\n",
       " [1, 8, -18],\n",
       " [0, 9, -19]]"
      ]
     },
     "execution_count": 38,
     "metadata": {},
     "output_type": "execute_result"
    }
   ],
   "source": [
    "sorted(numbers, key=lambda x:x[1]) #sort based on 2nd column with index 1"
   ]
  },
  {
   "cell_type": "code",
   "execution_count": 39,
   "id": "e659ac44-cd28-462a-bf34-08448da5e0a9",
   "metadata": {},
   "outputs": [
    {
     "data": {
      "text/plain": [
       "[[0, 9, -19],\n",
       " [1, 8, -18],\n",
       " [2, 7, -17],\n",
       " [3, 6, -16],\n",
       " [4, 5, -15],\n",
       " [5, 4, -14],\n",
       " [6, 3, -13],\n",
       " [7, 2, -12],\n",
       " [8, 1, -11],\n",
       " [9, 0, -10]]"
      ]
     },
     "execution_count": 39,
     "metadata": {},
     "output_type": "execute_result"
    }
   ],
   "source": [
    "sorted(numbers, key=lambda x:x[2]) #sort based on 3rd column with index 2"
   ]
  },
  {
   "cell_type": "code",
   "execution_count": 43,
   "id": "a7b3b00d-5e9f-456c-a14c-7becfad0f11d",
   "metadata": {},
   "outputs": [
    {
     "data": {
      "text/plain": [
       "[[9, 0, -10],\n",
       " [8, 1, -11],\n",
       " [7, 2, -12],\n",
       " [6, 3, -13],\n",
       " [5, 4, -14],\n",
       " [4, 5, -15],\n",
       " [3, 6, -16],\n",
       " [2, 7, -17],\n",
       " [1, 8, -18],\n",
       " [0, 9, -19]]"
      ]
     },
     "execution_count": 43,
     "metadata": {},
     "output_type": "execute_result"
    }
   ],
   "source": [
    "sorted(numbers, key=lambda x:x[-2]) #sort based on 2nd column with index -2"
   ]
  },
  {
   "attachments": {},
   "cell_type": "markdown",
   "id": "cd8bd3ba",
   "metadata": {},
   "source": [
    "## 1.3 Optional arguments"
   ]
  },
  {
   "cell_type": "code",
   "execution_count": 45,
   "id": "922a09d5-afab-4b1e-bf17-37892d15521e",
   "metadata": {},
   "outputs": [],
   "source": [
    "def greeting(name = 'no one'): #optional argument\n",
    "    if name == 'Batman':\n",
    "        return 'Hello Batman! So, nice to meet you!'\n",
    "    else:\n",
    "        return f'Hello {name}!'"
   ]
  },
  {
   "cell_type": "code",
   "execution_count": 46,
   "id": "037bf95a-eb64-4b63-9629-b59273d9ec02",
   "metadata": {},
   "outputs": [
    {
     "data": {
      "text/plain": [
       "'Hello no one!'"
      ]
     },
     "execution_count": 46,
     "metadata": {},
     "output_type": "execute_result"
    }
   ],
   "source": [
    "greeting() #optional argument allows an output when not specified "
   ]
  },
  {
   "cell_type": "code",
   "execution_count": 47,
   "id": "dee52909-b5cd-4904-8fa7-0fbba73aae22",
   "metadata": {},
   "outputs": [
    {
     "data": {
      "text/plain": [
       "'Hello yeet!'"
      ]
     },
     "execution_count": 47,
     "metadata": {},
     "output_type": "execute_result"
    }
   ],
   "source": [
    "greeting(name = 'yeet')"
   ]
  },
  {
   "cell_type": "code",
   "execution_count": 48,
   "id": "54bdf800-09c3-4c99-9036-905bbb9f7e9e",
   "metadata": {},
   "outputs": [
    {
     "data": {
      "text/plain": [
       "\u001b[0;31mSignature:\u001b[0m \u001b[0mprint\u001b[0m\u001b[0;34m(\u001b[0m\u001b[0;34m*\u001b[0m\u001b[0margs\u001b[0m\u001b[0;34m,\u001b[0m \u001b[0msep\u001b[0m\u001b[0;34m=\u001b[0m\u001b[0;34m' '\u001b[0m\u001b[0;34m,\u001b[0m \u001b[0mend\u001b[0m\u001b[0;34m=\u001b[0m\u001b[0;34m'\\n'\u001b[0m\u001b[0;34m,\u001b[0m \u001b[0mfile\u001b[0m\u001b[0;34m=\u001b[0m\u001b[0;32mNone\u001b[0m\u001b[0;34m,\u001b[0m \u001b[0mflush\u001b[0m\u001b[0;34m=\u001b[0m\u001b[0;32mFalse\u001b[0m\u001b[0;34m)\u001b[0m\u001b[0;34m\u001b[0m\u001b[0;34m\u001b[0m\u001b[0m\n",
       "\u001b[0;31mDocstring:\u001b[0m\n",
       "Prints the values to a stream, or to sys.stdout by default.\n",
       "\n",
       "sep\n",
       "  string inserted between values, default a space.\n",
       "end\n",
       "  string appended after the last value, default a newline.\n",
       "file\n",
       "  a file-like object (stream); defaults to the current sys.stdout.\n",
       "flush\n",
       "  whether to forcibly flush the stream.\n",
       "\u001b[0;31mType:\u001b[0m      builtin_function_or_method"
      ]
     },
     "metadata": {},
     "output_type": "display_data"
    }
   ],
   "source": [
    "?print # python in build"
   ]
  },
  {
   "cell_type": "code",
   "execution_count": 50,
   "id": "c711f71b-c85f-49be-921e-1f87a6f3a14b",
   "metadata": {},
   "outputs": [
    {
     "name": "stdout",
     "output_type": "stream",
     "text": [
      "hi....there"
     ]
    }
   ],
   "source": [
    "print('hi', end='....there') #specifying end"
   ]
  },
  {
   "cell_type": "code",
   "execution_count": 52,
   "id": "5cbfc370-1e00-491e-b2e2-b599880796e0",
   "metadata": {},
   "outputs": [
    {
     "name": "stdout",
     "output_type": "stream",
     "text": [
      "hi!!!!!aili\n"
     ]
    }
   ],
   "source": [
    "print('hi', 'aili', sep='!!!!!') #specifying separation"
   ]
  },
  {
   "attachments": {},
   "cell_type": "markdown",
   "id": "cd3d4923",
   "metadata": {},
   "source": [
    "## 1.4 The importance of functions?"
   ]
  },
  {
   "attachments": {},
   "cell_type": "markdown",
   "id": "3312ccb2",
   "metadata": {},
   "source": [
    "### An argument for functions"
   ]
  },
  {
   "cell_type": "code",
   "execution_count": null,
   "id": "091d8d7a",
   "metadata": {},
   "outputs": [],
   "source": [
    "\n",
    "# Your code here\n"
   ]
  },
  {
   "attachments": {},
   "cell_type": "markdown",
   "id": "7bd017ff",
   "metadata": {},
   "source": [
    "### A word of caution"
   ]
  },
  {
   "cell_type": "code",
   "execution_count": null,
   "id": "b832dab1",
   "metadata": {},
   "outputs": [],
   "source": [
    "\n",
    "# Your code here\n"
   ]
  }
 ],
 "metadata": {
  "kernelspec": {
   "display_name": "Python 3 (ipykernel)",
   "language": "python",
   "name": "python3"
  },
  "language_info": {
   "codemirror_mode": {
    "name": "ipython",
    "version": 3
   },
   "file_extension": ".py",
   "mimetype": "text/x-python",
   "name": "python",
   "nbconvert_exporter": "python",
   "pygments_lexer": "ipython3",
   "version": "3.11.7"
  },
  "toc": {
   "base_numbering": 1,
   "nav_menu": {},
   "number_sections": true,
   "sideBar": true,
   "skip_h1_title": false,
   "title_cell": "Table of Contents",
   "title_sidebar": "Contents",
   "toc_cell": false,
   "toc_position": {},
   "toc_section_display": true,
   "toc_window_display": false
  },
  "vscode": {
   "interpreter": {
    "hash": "31f2aee4e71d21fbe5cf8b01ff0e069b9275f58929596ceb00d14d90e3e16cd6"
   }
  }
 },
 "nbformat": 4,
 "nbformat_minor": 5
}
