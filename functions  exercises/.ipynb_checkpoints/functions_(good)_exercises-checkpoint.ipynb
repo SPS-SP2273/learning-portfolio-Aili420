{
 "cells": [
  {
   "attachments": {},
   "cell_type": "markdown",
   "id": "123456",
   "metadata": {},
   "source": [
    "<div style=\"text-align:left;font-size:2em\"><span style=\"font-weight:bolder;font-size:1.25em\">SP2273 | Learning Portfolio</span><br><br><span style=\"font-weight:bold;color:darkred\">Functions (Good) Exercises</span></div>"
   ]
  },
  {
   "cell_type": "markdown",
   "id": "9bd6a5ce-4f84-4018-bbe5-a4b2eccc2db1",
   "metadata": {},
   "source": [
    "# Exercise 1"
   ]
  },
  {
   "cell_type": "code",
   "execution_count": 15,
   "id": "d4fe73e8-d91f-4e9f-b0c9-5314dbc30a55",
   "metadata": {},
   "outputs": [],
   "source": [
    "def convert_celsius(temperature_celsius, target_scale='Fahrenheit'):\n",
    "    if target_scale == 'Fahrenheit':\n",
    "        temperature_fahrenheit = (temperature_celsius * 9/5) + 32\n",
    "        return temperature_fahrenheit\n",
    "    elif target_scale == 'Kelvin':\n",
    "        temperature_kelvin = temperature_celsius + 273.15\n",
    "        return temperature_kelvin"
   ]
  },
  {
   "cell_type": "code",
   "execution_count": 4,
   "id": "e2ca97f1-2a11-4d36-a927-ccccde6a27dd",
   "metadata": {},
   "outputs": [
    {
     "data": {
      "text/plain": [
       "297.15"
      ]
     },
     "execution_count": 4,
     "metadata": {},
     "output_type": "execute_result"
    }
   ],
   "source": [
    "convert_celsius(24, 'Kelvin')"
   ]
  },
  {
   "cell_type": "code",
   "execution_count": 6,
   "id": "1e8509f7-a48e-4bb1-bff1-1874cb57ac8f",
   "metadata": {},
   "outputs": [
    {
     "data": {
      "text/plain": [
       "75.2"
      ]
     },
     "execution_count": 6,
     "metadata": {},
     "output_type": "execute_result"
    }
   ],
   "source": [
    "convert_celsius(24, 'Fahrenheit')"
   ]
  },
  {
   "cell_type": "markdown",
   "id": "89760905-a6e5-4969-a198-9ebc5dc41e20",
   "metadata": {},
   "source": [
    "# Exercise 2"
   ]
  },
  {
   "cell_type": "code",
   "execution_count": 17,
   "id": "30399b46-4cce-496d-b5be-b8658a0230b9",
   "metadata": {},
   "outputs": [],
   "source": [
    "def convert_fahrenheit(temperature_fahrenheit, target_scale='Celsius'):\n",
    "    if target_scale == 'Celsius':\n",
    "        temperature_Celsius = (temperature_fahrenheit - 32) * 5/9\n",
    "        return temperature_Celsius\n",
    "    elif target_scale == 'Kelvin':\n",
    "        temperature_kelvin = (temperature_fahrenheit - 32) * 5/9 + 273.15\n",
    "        return temperature_kelvin"
   ]
  },
  {
   "cell_type": "code",
   "execution_count": 22,
   "id": "7ff3ca58-8f64-4c4b-b266-2f34a02094fd",
   "metadata": {},
   "outputs": [
    {
     "data": {
      "text/plain": [
       "87.22222222222223"
      ]
     },
     "execution_count": 22,
     "metadata": {},
     "output_type": "execute_result"
    }
   ],
   "source": [
    "convert_fahrenheit(189, 'Celsius')"
   ]
  },
  {
   "cell_type": "code",
   "execution_count": 23,
   "id": "555f31a3-9705-4c5c-9b25-9316aca26b61",
   "metadata": {},
   "outputs": [
    {
     "data": {
      "text/plain": [
       "360.3722222222222"
      ]
     },
     "execution_count": 23,
     "metadata": {},
     "output_type": "execute_result"
    }
   ],
   "source": [
    "convert_fahrenheit(189, 'Kelvin')"
   ]
  },
  {
   "cell_type": "markdown",
   "id": "202c2399-f32a-4494-92b1-ef6ff554d5cf",
   "metadata": {},
   "source": [
    "# Exercise 3"
   ]
  },
  {
   "cell_type": "code",
   "execution_count": 24,
   "id": "5a05238d-b28b-48c9-9ca9-efa528e1b149",
   "metadata": {},
   "outputs": [],
   "source": [
    "def convert_temperature(temperature, source_scale, target_scale):\n",
    "    if source_scale == 'Celsius':\n",
    "        if target_scale == 'Fahrenheit':\n",
    "            return (temperature * 9/5) + 32\n",
    "        elif target_scale == 'Kelvin':\n",
    "            return temperature + 273.15\n",
    "    elif source_scale == 'Fahrenheit':\n",
    "        if target_scale == 'Celsius':\n",
    "            return (temperature - 32) * 5/9\n",
    "        elif target_scale == 'Kelvin':\n",
    "            return (temperature - 32) * 5/9 + 273.15\n",
    "    elif source_scale == 'Kelvin':\n",
    "        if target_scale == 'Celsius':\n",
    "            return temperature - 273.15\n",
    "        elif target_scale == 'Fahrenheit':\n",
    "            return (temperature - 273.15) * 9/5 + 32"
   ]
  },
  {
   "cell_type": "code",
   "execution_count": 26,
   "id": "1fddb557-82eb-4163-852b-f781ba58df77",
   "metadata": {},
   "outputs": [
    {
     "data": {
      "text/plain": [
       "75.2"
      ]
     },
     "execution_count": 26,
     "metadata": {},
     "output_type": "execute_result"
    }
   ],
   "source": [
    "convert_temperature(24, 'Celsius', 'Fahrenheit')"
   ]
  },
  {
   "cell_type": "code",
   "execution_count": 32,
   "id": "1fc82804-58e8-49a3-977c-5e875bc3b61a",
   "metadata": {},
   "outputs": [
    {
     "data": {
      "text/plain": [
       "333.15"
      ]
     },
     "execution_count": 32,
     "metadata": {},
     "output_type": "execute_result"
    }
   ],
   "source": [
    "convert_temperature(60, 'Celsius', 'Kelvin')"
   ]
  },
  {
   "cell_type": "code",
   "execution_count": 30,
   "id": "123e02a5-1735-47fb-94ba-d547d56c1afc",
   "metadata": {},
   "outputs": [
    {
     "data": {
      "text/plain": [
       "59.85000000000002"
      ]
     },
     "execution_count": 30,
     "metadata": {},
     "output_type": "execute_result"
    }
   ],
   "source": [
    "convert_temperature(333, 'Kelvin', 'Celsius')"
   ]
  }
 ],
 "metadata": {
  "kernelspec": {
   "display_name": "Python 3 (ipykernel)",
   "language": "python",
   "name": "python3"
  },
  "language_info": {
   "codemirror_mode": {
    "name": "ipython",
    "version": 3
   },
   "file_extension": ".py",
   "mimetype": "text/x-python",
   "name": "python",
   "nbconvert_exporter": "python",
   "pygments_lexer": "ipython3",
   "version": "3.11.7"
  },
  "toc": {
   "base_numbering": 1,
   "nav_menu": {},
   "number_sections": true,
   "sideBar": true,
   "skip_h1_title": false,
   "title_cell": "Table of Contents",
   "title_sidebar": "Contents",
   "toc_cell": false,
   "toc_position": {},
   "toc_section_display": true,
   "toc_window_display": false
  },
  "vscode": {
   "interpreter": {
    "hash": "31f2aee4e71d21fbe5cf8b01ff0e069b9275f58929596ceb00d14d90e3e16cd6"
   }
  }
 },
 "nbformat": 4,
 "nbformat_minor": 5
}
