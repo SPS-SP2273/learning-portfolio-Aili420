{
 "cells": [
  {
   "attachments": {},
   "cell_type": "markdown",
   "id": "123456",
   "metadata": {},
   "source": [
    "<div style=\"text-align:left;font-size:2em\"><span style=\"font-weight:bolder;font-size:1.25em\">SP2273 | Learning Portfolio</span><br><br><span style=\"font-weight:bold;color:darkred\">Functions (Need) Exercises</span></div>"
   ]
  },
  {
   "cell_type": "markdown",
   "id": "3bd42d5d-ed42-4766-81dc-d1209e61dc14",
   "metadata": {},
   "source": [
    "# Exercise 1"
   ]
  },
  {
   "cell_type": "code",
   "execution_count": 8,
   "id": "88e4fb97-57fa-4ff7-8a32-e2e651f453c2",
   "metadata": {},
   "outputs": [
    {
     "data": {
      "text/plain": [
       "'Hello aili!'"
      ]
     },
     "execution_count": 8,
     "metadata": {},
     "output_type": "execute_result"
    }
   ],
   "source": [
    "def greeting(name):\n",
    "    if name == 'Batman':\n",
    "        return 'Hello Batman! So, nice to meet you!'\n",
    "    return f'Hello {name}!'\n",
    "\n",
    "greeting('aili')"
   ]
  },
  {
   "cell_type": "markdown",
   "id": "13c3b8e4-c96c-4dba-b428-16bfafd4f521",
   "metadata": {},
   "source": [
    "Conditional Statement: The function checks if the name parameter is equal to 'Batman'. If it is, a specific greeting is returned. Otherwise, it proceeds to the next line.\n",
    "\n",
    "Default Case: If the condition name == 'Batman' evaluates to False, the function automatically proceeds to the next line after the if block, which is the return statement that greets the person whose name is passed to the function.\n",
    "\n",
    "Implicit Else: In Python, if there's no explicit else block, the function implicitly knows that if the condition in the if statement is not met, it will execute the following statement. This is the default behavior of the Python programming language."
   ]
  },
  {
   "cell_type": "markdown",
   "id": "436ce733-eb2d-4c3a-ae47-412a6e8e6237",
   "metadata": {},
   "source": [
    "# Exercise 2"
   ]
  },
  {
   "cell_type": "code",
   "execution_count": 12,
   "id": "02bd0314-35fa-4849-b14d-db801d4ed58d",
   "metadata": {},
   "outputs": [],
   "source": [
    "def calculate_bmi(weight, height):\n",
    "    bmi = weight / (height ** 2)\n",
    "    if bmi < 18.5:\n",
    "        return \"Underweight\"\n",
    "    if 18.5 <= bmi <= 24.9:\n",
    "        return \"Normal Weight\"\n",
    "    if 25 <= bmi <= 29.9:\n",
    "        return \"Overweight\"\n",
    "    if bmi >= 30:\n",
    "        return 'Obesity'"
   ]
  },
  {
   "cell_type": "code",
   "execution_count": 15,
   "id": "f6df4779-334f-4da4-95f7-505b6c250512",
   "metadata": {},
   "outputs": [
    {
     "data": {
      "text/plain": [
       "'Underweight'"
      ]
     },
     "execution_count": 15,
     "metadata": {},
     "output_type": "execute_result"
    }
   ],
   "source": [
    "calculate_bmi(43, 1.61)"
   ]
  },
  {
   "cell_type": "code",
   "execution_count": 17,
   "id": "c2af3200-7b9f-4fb6-8900-9e95ea795c2d",
   "metadata": {},
   "outputs": [
    {
     "name": "stdout",
     "output_type": "stream",
     "text": [
      "For weight 43kg and height 1.61m, the bmi category is: Underweight\n"
     ]
    }
   ],
   "source": [
    "weight = 43\n",
    "height = 161\n",
    "print(f'For weight {43}kg and height {1.61}m, the bmi category is: {calculate_bmi(43, 1.61)}')"
   ]
  }
 ],
 "metadata": {
  "kernelspec": {
   "display_name": "Python 3 (ipykernel)",
   "language": "python",
   "name": "python3"
  },
  "language_info": {
   "codemirror_mode": {
    "name": "ipython",
    "version": 3
   },
   "file_extension": ".py",
   "mimetype": "text/x-python",
   "name": "python",
   "nbconvert_exporter": "python",
   "pygments_lexer": "ipython3",
   "version": "3.11.7"
  },
  "toc": {
   "base_numbering": 1,
   "nav_menu": {},
   "number_sections": true,
   "sideBar": true,
   "skip_h1_title": false,
   "title_cell": "Table of Contents",
   "title_sidebar": "Contents",
   "toc_cell": false,
   "toc_position": {},
   "toc_section_display": true,
   "toc_window_display": false
  },
  "vscode": {
   "interpreter": {
    "hash": "31f2aee4e71d21fbe5cf8b01ff0e069b9275f58929596ceb00d14d90e3e16cd6"
   }
  }
 },
 "nbformat": 4,
 "nbformat_minor": 5
}
