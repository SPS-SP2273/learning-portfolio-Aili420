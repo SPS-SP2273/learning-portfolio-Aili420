{
 "cells": [
  {
   "cell_type": "markdown",
   "id": "a459e82c-99c5-4f0a-885b-2d8d11e14c0b",
   "metadata": {},
   "source": [
    "#### Exercise 1(Put it in Markdown)"
   ]
  },
  {
   "cell_type": "markdown",
   "id": "9e7fafcb-0d3f-425b-817e-f0462a79c92e",
   "metadata": {},
   "source": [
    "# Introduction"
   ]
  },
  {
   "cell_type": "markdown",
   "id": "be9783cf-237d-4d07-a0b6-c683f2014ce6",
   "metadata": {},
   "source": [
    "![](https://upload.wikimedia.org/wikipedia/commons/thumb/f/f8/Polynomialdeg2.svg/300px-Polynomialdeg2.svg.png)"
   ]
  },
  {
   "cell_type": "markdown",
   "id": "bf84a5f7-3e91-478e-a56f-5c165a55f699",
   "metadata": {},
   "source": [
    "*Image from the [Wikipedia page on Quadratic equations](https://en.wikipedia.org/wiki/Quadratic_equation)*"
   ]
  },
  {
   "cell_type": "markdown",
   "id": "2bc51725-2cf7-498c-b8a6-439060c756e4",
   "metadata": {},
   "source": [
    "The general frorm of the equation is:\n",
    "$$\n",
    "ax^2+bx+c=0\n",
    "$$"
   ]
  },
  {
   "cell_type": "markdown",
   "id": "5c4ed1df-595f-4d83-9c57-5d677d5e2653",
   "metadata": {},
   "source": [
    "# Solutions"
   ]
  },
  {
   "cell_type": "markdown",
   "id": "fb89d97f-360f-4ab8-afe3-2fcce0e77b3c",
   "metadata": {},
   "source": [
    "Provided that $a \\ne 0$, we can use an elementary algebraic method called [completing the square](https://en.wikipedia.org/wiki/Completing_the_square) to show that a quadratic equation has the following solution: "
   ]
  },
  {
   "cell_type": "markdown",
   "id": "61cc3738-34bb-4973-870d-f510eb8f610d",
   "metadata": {},
   "source": [
    "$$\n",
    "x = \\dfrac{-b \\pm \\sqrt{b^2-4ac}}{2a}\n",
    "$$"
   ]
  },
  {
   "cell_type": "markdown",
   "id": "531cedec-6184-4694-9f06-33c8a3f9f693",
   "metadata": {},
   "source": [
    "# Discriminant"
   ]
  },
  {
   "cell_type": "markdown",
   "id": "68e4939b-19a7-47b4-b088-788ac6a728fa",
   "metadata": {},
   "source": [
    "The quantity $\\triangle=b^2-4ac$ is called the **discriminant** of the equation and decides the nature of its solutions. The table below shows the various possibilities."
   ]
  },
  {
   "cell_type": "markdown",
   "id": "f4984748-3fd4-4e80-90e9-4507296aab69",
   "metadata": {},
   "source": [
    "| **Discrimination** | **Roots**                           |   |   |   |\n",
    "|--------------------|-------------------------------------|---|---|---|\n",
    "| $\\triangle=b^2-4ac=0$       | A single solution of -b/(2a)        |   |   |   |\n",
    "| $\\triangle=b^2-4ac \\gt 0$   | Two distinct solutions              |   |   |   |\n",
    "| $\\triangle=b^2-4ac \\lt 0$   | No real solutions; both are complex |   |   |   |"
   ]
  },
  {
   "cell_type": "markdown",
   "id": "59db3098-16bb-45fb-91ea-cc6f0ee97ffd",
   "metadata": {},
   "source": [
    "| **Discrimination** | **Roots**   | \n",
    "|--------------------|-------------|\n",
    "| $\\triangle=b^2-4ac=0$       | A single solution of -b/(2a)        |  \n",
    "| $\\triangle=b^2-4ac \\gt 0$   | Two distinct solutions              |   \n",
    "| $\\triangle=b^2-4ac \\lt 0$   | No real solutions; both are complex |   "
   ]
  },
  {
   "cell_type": "markdown",
   "id": "d05c48ce-4eab-4b9f-8cc9-86fd4e29acf9",
   "metadata": {},
   "source": [
    "#### Exercise 2(In your own words)"
   ]
  },
  {
   "cell_type": "markdown",
   "id": "ffedfdaa-f859-4d76-a554-6e4ac7a64556",
   "metadata": {},
   "source": [
    "Using a Markdown cell to anwer the following."
   ]
  },
  {
   "cell_type": "markdown",
   "id": "d641fddc-901c-4c1b-9fc9-2a6631f75547",
   "metadata": {},
   "source": [
    "1. What is a Git **repository**?\n",
    "   - A Git repository is a data structure that stores metadata for a set of files and directories as well as a set of commit objects. \n",
    "2. Git Keeps tracks of changes in the files in our repository.\n",
    "3. What is a **commit**?\n",
    "   - Make changes to files\n",
    "4. What is a **push**?\n",
    "   - Update cloud\n",
    "5. what is a **pull**?\n",
    "   - Update local files\n",
    "6. What is the difference between **Github** and **Github Desktop**?\n",
    "   -Github is the cloud, Github Desktop is local"
   ]
  }
 ],
 "metadata": {
  "kernelspec": {
   "display_name": "Python 3 (ipykernel)",
   "language": "python",
   "name": "python3"
  },
  "language_info": {
   "codemirror_mode": {
    "name": "ipython",
    "version": 3
   },
   "file_extension": ".py",
   "mimetype": "text/x-python",
   "name": "python",
   "nbconvert_exporter": "python",
   "pygments_lexer": "ipython3",
   "version": "3.11.7"
  }
 },
 "nbformat": 4,
 "nbformat_minor": 5
}
